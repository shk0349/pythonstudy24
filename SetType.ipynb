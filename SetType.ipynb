{
  "nbformat": 4,
  "nbformat_minor": 0,
  "metadata": {
    "colab": {
      "provenance": [],
      "authorship_tag": "ABX9TyOZ83QRy5Pj+UrpkZCbq2U3",
      "include_colab_link": true
    },
    "kernelspec": {
      "name": "python3",
      "display_name": "Python 3"
    },
    "language_info": {
      "name": "python"
    }
  },
  "cells": [
    {
      "cell_type": "markdown",
      "metadata": {
        "id": "view-in-github",
        "colab_type": "text"
      },
      "source": [
        "<a href=\"https://colab.research.google.com/github/shk0349/pythonstudy24/blob/master/SetType.ipynb\" target=\"_parent\"><img src=\"https://colab.research.google.com/assets/colab-badge.svg\" alt=\"Open In Colab\"/></a>"
      ]
    },
    {
      "cell_type": "markdown",
      "source": [
        "집합 자료형\n",
        "\n",
        "집합에 관련된 것을 쉽게 처리하기 위해 만든 자료형이며, 아래와 같은 특징이 있다.\n",
        "\n",
        "1. 중복을 허용하지 않는다.\n",
        "2. 순서가 없다.\n",
        "\n",
        "위 사유로 데이터의 중복을 제거하기 위한 필터로 사용됨."
      ],
      "metadata": {
        "id": "BB8pOpBSf1DH"
      }
    },
    {
      "cell_type": "code",
      "execution_count": 2,
      "metadata": {
        "colab": {
          "base_uri": "https://localhost:8080/"
        },
        "id": "K2xZ9fIbftgK",
        "outputId": "1c5f0f2d-6bce-4459-87ef-52e560bad8d6"
      },
      "outputs": [
        {
          "output_type": "execute_result",
          "data": {
            "text/plain": [
              "{1, 2, 3}"
            ]
          },
          "metadata": {},
          "execution_count": 2
        }
      ],
      "source": [
        "# 집합 자료형 생성\n",
        "# 예시 1\n",
        "a = set([1, 2, 3])\n",
        "a"
      ]
    },
    {
      "cell_type": "code",
      "source": [
        "# 예시 2\n",
        "b = set(\"Hello\")\n",
        "b"
      ],
      "metadata": {
        "colab": {
          "base_uri": "https://localhost:8080/"
        },
        "id": "MJU2C8O6gMCd",
        "outputId": "b5f3d329-94ae-438d-e903-4c1088d2b300"
      },
      "execution_count": 6,
      "outputs": [
        {
          "output_type": "execute_result",
          "data": {
            "text/plain": [
              "{'H', 'e', 'l', 'o'}"
            ]
          },
          "metadata": {},
          "execution_count": 6
        }
      ]
    },
    {
      "cell_type": "code",
      "source": [
        "# 집합 자료형 인덱싱 / 리스트나 튜플로 변환 후에 실행\n",
        "# 예시 1\n",
        "a = set([1, 2, 3])\n",
        "lista = list(a)\n",
        "lista[0]"
      ],
      "metadata": {
        "colab": {
          "base_uri": "https://localhost:8080/"
        },
        "id": "YDsp4D0tkpTH",
        "outputId": "458c5ea6-058a-42a2-f4c9-2b51611e1d78"
      },
      "execution_count": 8,
      "outputs": [
        {
          "output_type": "execute_result",
          "data": {
            "text/plain": [
              "1"
            ]
          },
          "metadata": {},
          "execution_count": 8
        }
      ]
    },
    {
      "cell_type": "code",
      "source": [
        "# 예시 2\n",
        "tuplea = tuple(a)\n",
        "tuplea[1]"
      ],
      "metadata": {
        "colab": {
          "base_uri": "https://localhost:8080/"
        },
        "id": "Yd0smyq0k_9a",
        "outputId": "86136ef2-bd96-403e-a172-c3f7848be14a"
      },
      "execution_count": 10,
      "outputs": [
        {
          "output_type": "execute_result",
          "data": {
            "text/plain": [
              "2"
            ]
          },
          "metadata": {},
          "execution_count": 10
        }
      ]
    },
    {
      "cell_type": "code",
      "source": [
        "# 집합 자료형 교집합\n",
        "# 예시 1\n",
        "s1 = set([1, 2, 3, 4, 5, 6])\n",
        "s2 = set([4, 5, 6, 7, 8, 9])\n",
        "s1 & s2"
      ],
      "metadata": {
        "colab": {
          "base_uri": "https://localhost:8080/"
        },
        "id": "lhx8mGZclOkH",
        "outputId": "f34c9127-9f37-4670-8d36-52033294dd44"
      },
      "execution_count": 11,
      "outputs": [
        {
          "output_type": "execute_result",
          "data": {
            "text/plain": [
              "{4, 5, 6}"
            ]
          },
          "metadata": {},
          "execution_count": 11
        }
      ]
    },
    {
      "cell_type": "code",
      "source": [
        "# 예시 2\n",
        "s1.intersection(s2)    # .intersection() 함수를 활용하여도 교집합을 구할 수 있음"
      ],
      "metadata": {
        "id": "a9nkHhBIlYR6"
      },
      "execution_count": null,
      "outputs": []
    },
    {
      "cell_type": "code",
      "source": [
        "# 집합 자료형 합집합\n",
        "# 예시 1\n",
        "s1 | s2"
      ],
      "metadata": {
        "colab": {
          "base_uri": "https://localhost:8080/"
        },
        "id": "bycrmydslWTS",
        "outputId": "f8134717-dbed-4502-e5eb-60f0ca94699f"
      },
      "execution_count": 12,
      "outputs": [
        {
          "output_type": "execute_result",
          "data": {
            "text/plain": [
              "{1, 2, 3, 4, 5, 6, 7, 8, 9}"
            ]
          },
          "metadata": {},
          "execution_count": 12
        }
      ]
    },
    {
      "cell_type": "code",
      "source": [
        "# 예시 2\n",
        "s1.union(s2)    # .union() 함수를 활용하여도 합집합을 구할 수 있음"
      ],
      "metadata": {
        "colab": {
          "base_uri": "https://localhost:8080/"
        },
        "id": "GWj1-CRgllDc",
        "outputId": "63464c19-1e5f-46a7-8a85-106efab99510"
      },
      "execution_count": 13,
      "outputs": [
        {
          "output_type": "execute_result",
          "data": {
            "text/plain": [
              "{1, 2, 3, 4, 5, 6, 7, 8, 9}"
            ]
          },
          "metadata": {},
          "execution_count": 13
        }
      ]
    },
    {
      "cell_type": "code",
      "source": [
        "# 집합 자료형 차집합\n",
        "# 예시 1\n",
        "s1 - s2"
      ],
      "metadata": {
        "colab": {
          "base_uri": "https://localhost:8080/"
        },
        "id": "q-DZt8SYlwC8",
        "outputId": "25408c82-5547-491d-bce9-2ec99c4b6738"
      },
      "execution_count": 14,
      "outputs": [
        {
          "output_type": "execute_result",
          "data": {
            "text/plain": [
              "{1, 2, 3}"
            ]
          },
          "metadata": {},
          "execution_count": 14
        }
      ]
    },
    {
      "cell_type": "code",
      "source": [
        "# 예시 2\n",
        "s2 - s1"
      ],
      "metadata": {
        "colab": {
          "base_uri": "https://localhost:8080/"
        },
        "id": "IJu4kuYol_aI",
        "outputId": "7371171e-70b2-47af-efd2-63c65db25bc9"
      },
      "execution_count": 15,
      "outputs": [
        {
          "output_type": "execute_result",
          "data": {
            "text/plain": [
              "{7, 8, 9}"
            ]
          },
          "metadata": {},
          "execution_count": 15
        }
      ]
    },
    {
      "cell_type": "code",
      "source": [
        "# 예시 3\n",
        "s1.difference(s2)    # .difference 함수를 활용하여도 차집합을 구할 수 있음"
      ],
      "metadata": {
        "colab": {
          "base_uri": "https://localhost:8080/"
        },
        "id": "51-rIKOul1PA",
        "outputId": "8af5b963-ef4f-4e8d-98e7-6bf26186b69b"
      },
      "execution_count": 16,
      "outputs": [
        {
          "output_type": "execute_result",
          "data": {
            "text/plain": [
              "{1, 2, 3}"
            ]
          },
          "metadata": {},
          "execution_count": 16
        }
      ]
    },
    {
      "cell_type": "code",
      "source": [
        "# 예시 4\n",
        "s2.difference(s1)    # .difference 함수를 활용하여도 차집합을 구할 수 있음"
      ],
      "metadata": {
        "colab": {
          "base_uri": "https://localhost:8080/"
        },
        "id": "RH71Wkg2mFgE",
        "outputId": "ef86c4cd-2939-4dfe-e0bb-9608ad82ee45"
      },
      "execution_count": 17,
      "outputs": [
        {
          "output_type": "execute_result",
          "data": {
            "text/plain": [
              "{7, 8, 9}"
            ]
          },
          "metadata": {},
          "execution_count": 17
        }
      ]
    },
    {
      "cell_type": "code",
      "source": [
        "# 집합 자료형 값 추가\n",
        "# 예시 1\n",
        "a = set([1, 2, 3])\n",
        "a.add(4)    # .add 함수를 이용하여 1개의 값을 추가할 수 있음\n",
        "a"
      ],
      "metadata": {
        "colab": {
          "base_uri": "https://localhost:8080/"
        },
        "id": "uNcd07BVmIqa",
        "outputId": "4899397d-5eaf-423c-8ab5-804f7ec6e969"
      },
      "execution_count": 18,
      "outputs": [
        {
          "output_type": "execute_result",
          "data": {
            "text/plain": [
              "{1, 2, 3, 4}"
            ]
          },
          "metadata": {},
          "execution_count": 18
        }
      ]
    },
    {
      "cell_type": "code",
      "source": [
        "# 예시 2\n",
        "a.update([4, 5, 6])    # .update 함수를 이용하여 여러 개의 값을 추가할 수 있음\n",
        "a"
      ],
      "metadata": {
        "colab": {
          "base_uri": "https://localhost:8080/"
        },
        "id": "s7_af4wimh4I",
        "outputId": "b9c4752b-f6d2-4b8c-cd19-6b858a26d77a"
      },
      "execution_count": 19,
      "outputs": [
        {
          "output_type": "execute_result",
          "data": {
            "text/plain": [
              "{1, 2, 3, 4, 5, 6}"
            ]
          },
          "metadata": {},
          "execution_count": 19
        }
      ]
    },
    {
      "cell_type": "code",
      "source": [
        "# 집합 자료형 특정 값 제거\n",
        "# 예시\n",
        "a = set([1, 2, 3])\n",
        "a.remove(2)    # .remove(값) 함수를 이용하여 특정 값을 삭제 할 수 있음\n",
        "a"
      ],
      "metadata": {
        "colab": {
          "base_uri": "https://localhost:8080/"
        },
        "id": "btQn2_vYmpvw",
        "outputId": "9d1ab1ad-a150-47a0-f830-c97bab524d1b"
      },
      "execution_count": 20,
      "outputs": [
        {
          "output_type": "execute_result",
          "data": {
            "text/plain": [
              "{1, 3}"
            ]
          },
          "metadata": {},
          "execution_count": 20
        }
      ]
    }
  ]
}