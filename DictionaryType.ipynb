{
  "nbformat": 4,
  "nbformat_minor": 0,
  "metadata": {
    "colab": {
      "provenance": [],
      "authorship_tag": "ABX9TyPswkRq3aBlIS17pUuHRZ6d",
      "include_colab_link": true
    },
    "kernelspec": {
      "name": "python3",
      "display_name": "Python 3"
    },
    "language_info": {
      "name": "python"
    }
  },
  "cells": [
    {
      "cell_type": "markdown",
      "metadata": {
        "id": "view-in-github",
        "colab_type": "text"
      },
      "source": [
        "<a href=\"https://colab.research.google.com/github/shk0349/pythonstudy24/blob/master/DictionaryType.ipynb\" target=\"_parent\"><img src=\"https://colab.research.google.com/assets/colab-badge.svg\" alt=\"Open In Colab\"/></a>"
      ]
    },
    {
      "cell_type": "markdown",
      "source": [
        "딕셔너리 자료형\n",
        "\n",
        "딕셔너리는 리스트나 튜플처럼 순차적으로 해당 요솟값을 구하지 않고 Key를 통해 Value값을 얻는다."
      ],
      "metadata": {
        "id": "91q4A6pkbRXY"
      }
    },
    {
      "cell_type": "code",
      "execution_count": null,
      "metadata": {
        "colab": {
          "base_uri": "https://localhost:8080/"
        },
        "id": "twwOb4OkbLJu",
        "outputId": "8d15a70b-ab39-4f55-c300-96d8cd0ae9ea"
      },
      "outputs": [
        {
          "output_type": "execute_result",
          "data": {
            "text/plain": [
              "{'name': 'pey', 'phone': '010-9999-1234', 'birth': '1118'}"
            ]
          },
          "metadata": {},
          "execution_count": 7
        }
      ],
      "source": [
        "# 딕셔너리 자료형 생성\n",
        "# 예시\n",
        "a = {'name' : 'pey', 'phone' : '010-9999-1234', 'birth' : '1118'}\n",
        "a"
      ]
    },
    {
      "cell_type": "code",
      "source": [
        "# 딕셔너리 쌍 추가\n",
        "# 예시 1\n",
        "a = {1 : 'a'}\n",
        "a[2] = 'b'\n",
        "a"
      ],
      "metadata": {
        "colab": {
          "base_uri": "https://localhost:8080/"
        },
        "id": "kOCsg-G5b0S-",
        "outputId": "2f8468a5-eb8f-473b-8379-2f37bd1c662c"
      },
      "execution_count": null,
      "outputs": [
        {
          "output_type": "execute_result",
          "data": {
            "text/plain": [
              "{1: 'a', 2: 'b'}"
            ]
          },
          "metadata": {},
          "execution_count": 8
        }
      ]
    },
    {
      "cell_type": "code",
      "source": [
        "# 예시 2\n",
        "a['name'] = 'pey'\n",
        "a"
      ],
      "metadata": {
        "colab": {
          "base_uri": "https://localhost:8080/"
        },
        "id": "XlZrGjX3cAXg",
        "outputId": "b03ec02f-af35-4ea0-d338-c7a30b8db71a"
      },
      "execution_count": null,
      "outputs": [
        {
          "output_type": "execute_result",
          "data": {
            "text/plain": [
              "{1: 'a', 2: 'b', 'name': 'pey'}"
            ]
          },
          "metadata": {},
          "execution_count": 9
        }
      ]
    },
    {
      "cell_type": "code",
      "source": [
        "# 예시 3\n",
        "a[3] = [1, 2, 3]\n",
        "a"
      ],
      "metadata": {
        "colab": {
          "base_uri": "https://localhost:8080/"
        },
        "id": "Yv01W5IMcLxT",
        "outputId": "5c543559-89a7-4371-9f37-b7342f3d0b81"
      },
      "execution_count": null,
      "outputs": [
        {
          "output_type": "execute_result",
          "data": {
            "text/plain": [
              "{1: 'a', 2: 'b', 'name': 'pey', 3: [1, 2, 3]}"
            ]
          },
          "metadata": {},
          "execution_count": 10
        }
      ]
    },
    {
      "cell_type": "code",
      "source": [
        "# 딕셔너리 삭제 / 딕셔너리 요소 중 해당 key 값을 찾아 삭제하며, 이에 해당하는 value 값도 같이 삭제된다.\n",
        "# 예시\n",
        "del a[2]\n",
        "a"
      ],
      "metadata": {
        "colab": {
          "base_uri": "https://localhost:8080/"
        },
        "id": "nMaciSI1cPGG",
        "outputId": "e5daceed-0a91-4795-986d-05a37d324778"
      },
      "execution_count": null,
      "outputs": [
        {
          "output_type": "execute_result",
          "data": {
            "text/plain": [
              "{1: 'a', 'name': 'pey', 3: [1, 2, 3]}"
            ]
          },
          "metadata": {},
          "execution_count": 11
        }
      ]
    },
    {
      "cell_type": "code",
      "source": [
        "# 딕셔너리에서 Key 값을 사용하여 Value 값 얻기\n",
        "# 예시 1\n",
        "grade = {'pey' : 10, 'julliet' : 99}\n",
        "grade['pey']"
      ],
      "metadata": {
        "colab": {
          "base_uri": "https://localhost:8080/"
        },
        "id": "DMGxe44fc24Z",
        "outputId": "9d01ba9d-b832-4816-d394-f712912f833c"
      },
      "execution_count": null,
      "outputs": [
        {
          "output_type": "execute_result",
          "data": {
            "text/plain": [
              "10"
            ]
          },
          "metadata": {},
          "execution_count": 12
        }
      ]
    },
    {
      "cell_type": "code",
      "source": [
        "# 예시 2\n",
        "a = {1:'d', 1:'a', 1:'z'}     # key 값은 고유한 값이므로 중복된 key값을 설정할 시 맨 끝의 값을 제외한 나머지는 모두 무시된다.\n",
        "a"
      ],
      "metadata": {
        "colab": {
          "base_uri": "https://localhost:8080/"
        },
        "id": "xOT09yBrdG7x",
        "outputId": "9cb5c4d7-1f06-48e0-85c0-a9870ed538c4"
      },
      "execution_count": null,
      "outputs": [
        {
          "output_type": "execute_result",
          "data": {
            "text/plain": [
              "{1: 'z'}"
            ]
          },
          "metadata": {},
          "execution_count": 19
        }
      ]
    },
    {
      "cell_type": "code",
      "source": [
        "# 예시 3\n",
        "grade.get('pey')    # get함수를 이용하여 key 값으로 value 값 얻기"
      ],
      "metadata": {
        "colab": {
          "base_uri": "https://localhost:8080/"
        },
        "id": "VXthTyzue1qL",
        "outputId": "63a9b648-5bfd-4230-f831-cc643e179d21"
      },
      "execution_count": null,
      "outputs": [
        {
          "output_type": "execute_result",
          "data": {
            "text/plain": [
              "10"
            ]
          },
          "metadata": {},
          "execution_count": 23
        }
      ]
    },
    {
      "cell_type": "code",
      "source": [
        "# Key 리스트 만들기\n",
        "# 예시\n",
        "a = {'name': 'pey', 'phone': '010-9999-1234', 'birth': '1118'}    # a의 key 값들만 리스트화\n",
        "a.keys()"
      ],
      "metadata": {
        "colab": {
          "base_uri": "https://localhost:8080/"
        },
        "id": "9UlxE0KseB8G",
        "outputId": "efc3228e-62de-4eec-d9b3-38574f17d349"
      },
      "execution_count": null,
      "outputs": [
        {
          "output_type": "execute_result",
          "data": {
            "text/plain": [
              "dict_keys(['name', 'phone', 'birth'])"
            ]
          },
          "metadata": {},
          "execution_count": 20
        }
      ]
    },
    {
      "cell_type": "code",
      "source": [
        "# value 리스트 만들기\n",
        "# 예시\n",
        "a.values()    # a의 value 값들만 리스트화"
      ],
      "metadata": {
        "colab": {
          "base_uri": "https://localhost:8080/"
        },
        "id": "Y4ObwhHseTdR",
        "outputId": "95c01699-32e6-419d-a012-cdcda8d334ea"
      },
      "execution_count": null,
      "outputs": [
        {
          "output_type": "execute_result",
          "data": {
            "text/plain": [
              "dict_values(['pey', '010-9999-1234', '1118'])"
            ]
          },
          "metadata": {},
          "execution_count": 21
        }
      ]
    },
    {
      "cell_type": "code",
      "source": [
        "# key, value 값 쌍으로 얻기\n",
        "# 예시\n",
        "a.items()    # a의 Key : Value 를 리스트화"
      ],
      "metadata": {
        "colab": {
          "base_uri": "https://localhost:8080/"
        },
        "id": "7-HnVPlreiR9",
        "outputId": "ca4416a6-93c5-4db2-eb67-ee78d4aa2012"
      },
      "execution_count": null,
      "outputs": [
        {
          "output_type": "execute_result",
          "data": {
            "text/plain": [
              "dict_items([('name', 'pey'), ('phone', '010-9999-1234'), ('birth', '1118')])"
            ]
          },
          "metadata": {},
          "execution_count": 22
        }
      ]
    },
    {
      "cell_type": "code",
      "source": [
        "# Key 값이 해당 딕셔너리에 존재하는지 조사\n",
        "# 예시 1\n",
        "a = {'name':'pey', 'phone':'010-9999-1234', 'birth': '1118'}\n",
        "'name' in a    # 존재할 경우 True 값 출력"
      ],
      "metadata": {
        "colab": {
          "base_uri": "https://localhost:8080/"
        },
        "id": "SzgC8tmOevzZ",
        "outputId": "f02a3f6b-2a7c-45a9-d01f-3f27a0dbffa8"
      },
      "execution_count": null,
      "outputs": [
        {
          "output_type": "execute_result",
          "data": {
            "text/plain": [
              "True"
            ]
          },
          "metadata": {},
          "execution_count": 24
        }
      ]
    },
    {
      "cell_type": "code",
      "source": [
        "# 예시 2\n",
        "'email' in a    # 존재하지 않을 경우 False 값 출력"
      ],
      "metadata": {
        "colab": {
          "base_uri": "https://localhost:8080/"
        },
        "id": "c1eRh8BsfONd",
        "outputId": "6e09c437-1f9d-4fda-822f-fb26f9366c2d"
      },
      "execution_count": null,
      "outputs": [
        {
          "output_type": "execute_result",
          "data": {
            "text/plain": [
              "False"
            ]
          },
          "metadata": {},
          "execution_count": 25
        }
      ]
    },
    {
      "cell_type": "code",
      "source": [
        "# 딕셔너리 안의 모든 요소 삭제하기\n",
        "# 예시\n",
        "a.clear()\n",
        "a"
      ],
      "metadata": {
        "colab": {
          "base_uri": "https://localhost:8080/"
        },
        "id": "pDj_lahXfZLl",
        "outputId": "2f0524fa-01d2-4b80-d8b1-fe32317e80f3"
      },
      "execution_count": null,
      "outputs": [
        {
          "output_type": "execute_result",
          "data": {
            "text/plain": [
              "{}"
            ]
          },
          "metadata": {},
          "execution_count": 26
        }
      ]
    }
  ]
}