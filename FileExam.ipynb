{
  "nbformat": 4,
  "nbformat_minor": 0,
  "metadata": {
    "colab": {
      "provenance": [],
      "authorship_tag": "ABX9TyNfmtelKgnfM76Jk+kjDSGk",
      "include_colab_link": true
    },
    "kernelspec": {
      "name": "python3",
      "display_name": "Python 3"
    },
    "language_info": {
      "name": "python"
    }
  },
  "cells": [
    {
      "cell_type": "markdown",
      "metadata": {
        "id": "view-in-github",
        "colab_type": "text"
      },
      "source": [
        "<a href=\"https://colab.research.google.com/github/shk0349/pythonstudy24/blob/master/FileExam.ipynb\" target=\"_parent\"><img src=\"https://colab.research.google.com/assets/colab-badge.svg\" alt=\"Open In Colab\"/></a>"
      ]
    },
    {
      "cell_type": "markdown",
      "source": [
        "파일 읽고 쓰기 연습\n",
        "\n",
        "Python은 실무에서 엑셀파일을 .csv파일로 저장하여 불러와 데이터 분석 등을 한다.\n",
        "\n",
        ".csv는 엑셀에서 표에 있는 값을 텍스트로 다른이름으로 저장 기법을 말함\n",
        "\n",
        "현재 코랩으로 실습으로 진행하면 구글에서 제공하는 vm을 사용함\n",
        "\n",
        "리눅스 커널로 되어있어 content 디렉토리에 저장됨\n",
        "\n",
        "c:\\ 으로 되어 있는 것은 윈도우 커널로 파이참에서 실습해야함"
      ],
      "metadata": {
        "id": "2iNXEjntTefC"
      }
    },
    {
      "cell_type": "code",
      "execution_count": 3,
      "metadata": {
        "id": "RaFCAyRQTVix"
      },
      "outputs": [],
      "source": [
        "# 파일 생성\n",
        "# 예시\n",
        "f = open(\"새파일.txt\", 'w')    # open() 파일오픈 / 파일 권한 부여('w' : 쓰기가능 / 'r' : 읽기만 가능 / 'a' : 파일 마지막에 내용추가)\n",
        "for i in range(1, 11):    # 1 ~ 10까지 숫자 범위를 만들어 i에 넣는다\n",
        "    data = \"%d번째 줄입니다. \\n\" % i\n",
        "    f.write(data)    # data값을 파일에 기록한다.\n",
        "f.close()    # 열린 파일을 닫음"
      ]
    },
    {
      "cell_type": "code",
      "source": [
        "# 저장된 파일 출력\n",
        "# 예시\n",
        "f = open(\"새파일.txt\", 'r')\n",
        "line = f.readline()    # 첫줄 내용을 가져와 line 이라는 변수에 넣는다.\n",
        "print(line)\n",
        "f.close()"
      ],
      "metadata": {
        "colab": {
          "base_uri": "https://localhost:8080/"
        },
        "id": "tAfn9q2RYNaX",
        "outputId": "58ef8a81-6241-4f86-97e5-61e89f97d59e"
      },
      "execution_count": 5,
      "outputs": [
        {
          "output_type": "stream",
          "name": "stdout",
          "text": [
            "1번째 줄입니다. \n",
            "\n"
          ]
        }
      ]
    },
    {
      "cell_type": "code",
      "source": [
        "# 무한루프 while로 가져오기\n",
        "# 예시\n",
        "f = open(\"새파일.txt\", 'r')\n",
        "while True:    # 무한루프 동작\n",
        "    line = f.readline()    # 한 줄씩 읽음\n",
        "    if not line: break    # 마지막 줄인지 확인 후 중단\n",
        "    print(line)    # 출력\n",
        "f.close()    # 파일 닫기"
      ],
      "metadata": {
        "colab": {
          "base_uri": "https://localhost:8080/"
        },
        "id": "S0eJ7OSLY0Xk",
        "outputId": "d70761c8-0f4e-4d4e-c625-5234fb89ffd5"
      },
      "execution_count": 6,
      "outputs": [
        {
          "output_type": "stream",
          "name": "stdout",
          "text": [
            "1번째 줄입니다. \n",
            "\n",
            "2번째 줄입니다. \n",
            "\n",
            "3번째 줄입니다. \n",
            "\n",
            "4번째 줄입니다. \n",
            "\n",
            "5번째 줄입니다. \n",
            "\n",
            "6번째 줄입니다. \n",
            "\n",
            "7번째 줄입니다. \n",
            "\n",
            "8번째 줄입니다. \n",
            "\n",
            "9번째 줄입니다. \n",
            "\n",
            "10번째 줄입니다. \n",
            "\n"
          ]
        }
      ]
    },
    {
      "cell_type": "code",
      "source": [
        "# .readlines() / 리스트로 저장\n",
        "# 예시\n",
        "f = open(\"새파일.txt\", 'r')\n",
        "lines = f.readlines()    # 모든 줄을 읽어서 리스트로 저장\n",
        "for line in lines:\n",
        "    print(line.strip())    # .strip() 매서드는 줄끝의 줄바꿈 문자를 제거함\n",
        "f.close()"
      ],
      "metadata": {
        "colab": {
          "base_uri": "https://localhost:8080/"
        },
        "id": "fLiQn9O5ZnQG",
        "outputId": "c237880d-2a7d-448e-b204-f8676aee65cb"
      },
      "execution_count": 10,
      "outputs": [
        {
          "output_type": "stream",
          "name": "stdout",
          "text": [
            "1번째 줄입니다.\n",
            "2번째 줄입니다.\n",
            "3번째 줄입니다.\n",
            "4번째 줄입니다.\n",
            "5번째 줄입니다.\n",
            "6번째 줄입니다.\n",
            "7번째 줄입니다.\n",
            "8번째 줄입니다.\n",
            "9번째 줄입니다.\n",
            "10번째 줄입니다.\n"
          ]
        }
      ]
    },
    {
      "cell_type": "code",
      "source": [
        "# read() 함수 사용\n",
        "# 예시\n",
        "f = open(\"새파일.txt\", 'r')\n",
        "data = f.read()    # .read()는 txt 파일 안에 있는 모든 값을 문자열로 가져옴\n",
        "print(data)\n",
        "f.close()"
      ],
      "metadata": {
        "colab": {
          "base_uri": "https://localhost:8080/"
        },
        "id": "zL48jc5Ga6uZ",
        "outputId": "c3e01e8e-196b-41f0-8fb6-b9d250babf6a"
      },
      "execution_count": 12,
      "outputs": [
        {
          "output_type": "stream",
          "name": "stdout",
          "text": [
            "1번째 줄입니다. \n",
            "2번째 줄입니다. \n",
            "3번째 줄입니다. \n",
            "4번째 줄입니다. \n",
            "5번째 줄입니다. \n",
            "6번째 줄입니다. \n",
            "7번째 줄입니다. \n",
            "8번째 줄입니다. \n",
            "9번째 줄입니다. \n",
            "10번째 줄입니다. \n",
            "\n"
          ]
        }
      ]
    },
    {
      "cell_type": "code",
      "source": [
        "# 파일에 새로운 내용 추가\n",
        "# 'w'의 특징은 파일을 열 때 이미 존재하는 파일이면 전의 내용이 사라짐\n",
        "# 'w'를 'a'로 변경하던지 파일명을 다른이름으로 저장해야함\n",
        "# 예시\n",
        "f = open(\"새파일.txt\", 'a')\n",
        "for i in range(11, 21):\n",
        "    data = \"%d번째 행입니다. \\n\" %i\n",
        "    f.write(data)\n",
        "f.close()"
      ],
      "metadata": {
        "id": "aDht57F5bahj"
      },
      "execution_count": 14,
      "outputs": []
    },
    {
      "cell_type": "code",
      "source": [
        "# with() 함수 사용해보기\n",
        "# 파일을 열면(open) 항상 닫기(close) 해야함\n",
        "# 예시 1\n",
        "f = open(\"foo.txt\", 'w')\n",
        "f.write(\"Life is too short, you need python\")\n",
        "f.close()"
      ],
      "metadata": {
        "id": "-GLCaLxBdU3g"
      },
      "execution_count": 15,
      "outputs": []
    },
    {
      "cell_type": "code",
      "source": [
        "# 예시 2\n",
        "with open(\"foo.txt\", 'w') as f:\n",
        "    f.write(\"Life is too short, you need python\")\n",
        "    f.close()    # 생략가능 / with() 함수는 자동으로 파일 닫아줌"
      ],
      "metadata": {
        "id": "hL0-gRZgdox-"
      },
      "execution_count": 16,
      "outputs": []
    }
  ]
}