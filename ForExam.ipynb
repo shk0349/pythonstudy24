{
  "nbformat": 4,
  "nbformat_minor": 0,
  "metadata": {
    "colab": {
      "provenance": [],
      "authorship_tag": "ABX9TyMIBVCAhw6+VrwWTpII078j",
      "include_colab_link": true
    },
    "kernelspec": {
      "name": "python3",
      "display_name": "Python 3"
    },
    "language_info": {
      "name": "python"
    }
  },
  "cells": [
    {
      "cell_type": "markdown",
      "metadata": {
        "id": "view-in-github",
        "colab_type": "text"
      },
      "source": [
        "<a href=\"https://colab.research.google.com/github/shk0349/pythonstudy24/blob/master/ForExam.ipynb\" target=\"_parent\"><img src=\"https://colab.research.google.com/assets/colab-badge.svg\" alt=\"Open In Colab\"/></a>"
      ]
    },
    {
      "cell_type": "markdown",
      "source": [
        "For문 연습\n",
        "\n",
        "For문은 while과 같은 반복문으로 차이점은 Max가 여부이다.\n",
        "\n",
        "For문은 구구단과 같이 9라는 Max값이 있을 때 사용하며,\n",
        "\n",
        "While문은 Max가 없지만 종료되는 시점(강제종료 : ctrl+c)을 만들어 제공한다.\n",
        "\n",
        "For 변수 in 리스트 | 튜플 | 문자열:\n",
        "    실행문 1\n",
        "    실행문 2\n",
        "\n",
        "Java의 향상 For문(ForEach문)과 같다."
      ],
      "metadata": {
        "id": "8Ju5R9x9By3N"
      }
    },
    {
      "cell_type": "code",
      "execution_count": 1,
      "metadata": {
        "colab": {
          "base_uri": "https://localhost:8080/"
        },
        "id": "GwtD83XQBqIv",
        "outputId": "99d32c24-7661-46b8-d172-5937947d9d2b"
      },
      "outputs": [
        {
          "output_type": "stream",
          "name": "stdout",
          "text": [
            "one\n",
            "two\n",
            "three\n"
          ]
        }
      ],
      "source": [
        "# 전형적인 For문\n",
        "# 예시\n",
        "test_list = ['one', 'two', 'three']\n",
        "for i in test_list:\n",
        "    print(i)"
      ]
    },
    {
      "cell_type": "code",
      "source": [
        "# 다양한 For문\n",
        "# 예시 1\n",
        "a = [(1, 2), (3, 4), (5, 6)]\n",
        "for (first, last) in a:\n",
        "    print(first + last)\n"
      ],
      "metadata": {
        "colab": {
          "base_uri": "https://localhost:8080/"
        },
        "id": "5DRN5vYBEsyq",
        "outputId": "ecc20c8a-9057-4e6c-cb60-72c9153312bd"
      },
      "execution_count": 3,
      "outputs": [
        {
          "output_type": "stream",
          "name": "stdout",
          "text": [
            "3\n",
            "7\n",
            "11\n"
          ]
        }
      ]
    },
    {
      "cell_type": "code",
      "source": [
        "# 예시 2 / 총 5명의 학생이 시험을 보았는데, 시험 점수가 60점 이상이면 합격, 그렇지 않으면 불합격\n",
        "\n",
        "marks = [90, 25, 67, 45, 80]    # 학생별 시험점수\n",
        "number = 0    # 학생 출력 시 번호 지정\n",
        "for mark in marks:    # 리스트에 있는 객체를 앞에서부터 1개씩 가져와 mark 변수에 넣음\n",
        "    number = number + 1\n",
        "    if mark >= 60:\n",
        "        print(\"%d번 학생은 합격입니다.\" % number)\n",
        "    else:\n",
        "        print(\"%d번 학생은 불합격입니다.\" % number)"
      ],
      "metadata": {
        "colab": {
          "base_uri": "https://localhost:8080/"
        },
        "id": "wBLYFMdpFVzo",
        "outputId": "db704284-d66f-4b06-dfa8-2e92aa10f089"
      },
      "execution_count": 4,
      "outputs": [
        {
          "output_type": "stream",
          "name": "stdout",
          "text": [
            "1번 학생은 합격입니다.\n",
            "2번 학생은 불합격입니다.\n",
            "3번 학생은 합격입니다.\n",
            "4번 학생은 불합격입니다.\n",
            "5번 학생은 합격입니다.\n"
          ]
        }
      ]
    },
    {
      "cell_type": "code",
      "source": [
        "# 예시 3 / for + continue\n",
        "marks = [90, 25, 67, 45, 80]\n",
        "number = 0\n",
        "for mark in marks:\n",
        "    number = number + 1\n",
        "    if mark < 60:\n",
        "        continue    # 점수하 60미만일때는 넘어감\n",
        "    print(\"%d번 학생 축하합니다. 합격입니다.\" % number)\n"
      ],
      "metadata": {
        "colab": {
          "base_uri": "https://localhost:8080/"
        },
        "id": "dxcQmP5kJZpp",
        "outputId": "22a71860-3c44-48d9-b31e-fd05da1d6605"
      },
      "execution_count": 5,
      "outputs": [
        {
          "output_type": "stream",
          "name": "stdout",
          "text": [
            "1번 학생 축하합니다. 합격입니다.\n",
            "3번 학생 축하합니다. 합격입니다.\n",
            "5번 학생 축하합니다. 합격입니다.\n"
          ]
        }
      ]
    },
    {
      "cell_type": "code",
      "source": [
        "# 예시 4 / for문과 같이 자주 쓰는 range()\n",
        "a = range(10)    # 0부터 10미만 숫자를 포함하는 객체를 만들어줌\n",
        "a"
      ],
      "metadata": {
        "colab": {
          "base_uri": "https://localhost:8080/"
        },
        "id": "A73lDWlcKU4b",
        "outputId": "8213e183-9830-4af3-bc24-2af299239857"
      },
      "execution_count": 7,
      "outputs": [
        {
          "output_type": "execute_result",
          "data": {
            "text/plain": [
              "range(0, 10)"
            ]
          },
          "metadata": {},
          "execution_count": 7
        }
      ]
    },
    {
      "cell_type": "code",
      "source": [
        "# 예시 5\n",
        "a = range(1, 11)    # (시작값, 끝값) / 끝 숫자는 포함하지 않음\n",
        "a"
      ],
      "metadata": {
        "colab": {
          "base_uri": "https://localhost:8080/"
        },
        "id": "Yg5e7mLQK1pT",
        "outputId": "94a174d8-8049-41e6-82d3-24d5a6328c2d"
      },
      "execution_count": 8,
      "outputs": [
        {
          "output_type": "execute_result",
          "data": {
            "text/plain": [
              "range(1, 11)"
            ]
          },
          "metadata": {},
          "execution_count": 8
        }
      ]
    },
    {
      "cell_type": "code",
      "source": [
        "# 예시 6\n",
        "for i in range(1, 11):\n",
        "    print(i)"
      ],
      "metadata": {
        "colab": {
          "base_uri": "https://localhost:8080/"
        },
        "id": "y-JSxAWtLLYr",
        "outputId": "3aad544b-db5a-41ed-b7a3-cc70d213bff3"
      },
      "execution_count": 9,
      "outputs": [
        {
          "output_type": "stream",
          "name": "stdout",
          "text": [
            "1\n",
            "2\n",
            "3\n",
            "4\n",
            "5\n",
            "6\n",
            "7\n",
            "8\n",
            "9\n",
            "10\n"
          ]
        }
      ]
    },
    {
      "cell_type": "code",
      "source": [
        "# 예시 7\n",
        "marks = [90, 25, 67, 45, 80]\n",
        "for number in range(len(marks)):\n",
        "    if marks[number] < 60:\n",
        "        continue\n",
        "    print(\"%d번 학생 축하합니다. 합격입니다.\" % (number + 1))"
      ],
      "metadata": {
        "colab": {
          "base_uri": "https://localhost:8080/"
        },
        "id": "ykQXu5m3Ll1J",
        "outputId": "bc242331-67b5-4a6c-be3f-2a84adc128b5"
      },
      "execution_count": 10,
      "outputs": [
        {
          "output_type": "stream",
          "name": "stdout",
          "text": [
            "1번 학생 축하합니다. 합격입니다.\n",
            "3번 학생 축하합니다. 합격입니다.\n",
            "5번 학생 축하합니다. 합격입니다.\n"
          ]
        }
      ]
    },
    {
      "cell_type": "code",
      "source": [
        "# 예시 8 / 구구단\n",
        "for i in range(2, 10):\n",
        "    for j in range(1, 10):\n",
        "        print(i*j, end=\" \")    # prind의 end 파라미터는 기본 엔터를 하지 않고 \" \" 넣는다.\n",
        "    print('')"
      ],
      "metadata": {
        "colab": {
          "base_uri": "https://localhost:8080/"
        },
        "id": "LKVv6h-TMDAL",
        "outputId": "cd178a5b-cb7a-4aa4-e6d2-ae988cb583e1"
      },
      "execution_count": 11,
      "outputs": [
        {
          "output_type": "stream",
          "name": "stdout",
          "text": [
            "2 4 6 8 10 12 14 16 18 \n",
            "3 6 9 12 15 18 21 24 27 \n",
            "4 8 12 16 20 24 28 32 36 \n",
            "5 10 15 20 25 30 35 40 45 \n",
            "6 12 18 24 30 36 42 48 54 \n",
            "7 14 21 28 35 42 49 56 63 \n",
            "8 16 24 32 40 48 56 64 72 \n",
            "9 18 27 36 45 54 63 72 81 \n"
          ]
        }
      ]
    },
    {
      "cell_type": "code",
      "source": [
        "# List 컴프리헨션 -> 결과를 List로 저장하는 기법\n",
        "# List 컴프리헨션을 사용하지 않는 방법\n",
        "# 예시\n",
        "a = [1, 2, 3, 4]\n",
        "result = []\n",
        "for num in a:\n",
        "    result.append(num*3)    # .append()를 사용하여 result에 값을 추가\n",
        "print(result)"
      ],
      "metadata": {
        "colab": {
          "base_uri": "https://localhost:8080/"
        },
        "id": "O-47NfM_Na_8",
        "outputId": "30158a4c-f065-4abb-dda7-0bdfe0e68eea"
      },
      "execution_count": 12,
      "outputs": [
        {
          "output_type": "stream",
          "name": "stdout",
          "text": [
            "[3, 6, 9, 12]\n"
          ]
        }
      ]
    },
    {
      "cell_type": "code",
      "source": [
        "# List 컴프리헨션 사용하기\n",
        "# 예시 1\n",
        "a = [1, 2, 3, 4]\n",
        "result = [num * 3 for num in a]\n",
        "print(result)"
      ],
      "metadata": {
        "colab": {
          "base_uri": "https://localhost:8080/"
        },
        "id": "ddnPL6LFOcc4",
        "outputId": "ac784d29-3db8-4cdf-a3d0-a078a1522c75"
      },
      "execution_count": 13,
      "outputs": [
        {
          "output_type": "stream",
          "name": "stdout",
          "text": [
            "[3, 6, 9, 12]\n"
          ]
        }
      ]
    },
    {
      "cell_type": "code",
      "source": [
        "# 예시 2 / 짝수만 3을 곱해서 리스트에 담아라\n",
        "a = [1, 2, 3, 4]\n",
        "result = [num * 3 for num in a if num % 2 == 0]\n",
        "print(result)"
      ],
      "metadata": {
        "colab": {
          "base_uri": "https://localhost:8080/"
        },
        "id": "lmuKgkkdPaMh",
        "outputId": "3c4f5833-430a-4b71-be2d-aee1a7abf7b8"
      },
      "execution_count": 14,
      "outputs": [
        {
          "output_type": "stream",
          "name": "stdout",
          "text": [
            "[6, 12]\n"
          ]
        }
      ]
    },
    {
      "cell_type": "code",
      "source": [
        "# 미션 / 커피 자판기를 리스트화 하여 for문으로 구현하라\n",
        "# 커피 종류가 5개 이상(커피명, 수량, 단가)\n",
        "# 사용자가 커피를 반복 구매 가능\n",
        "# 관리자가 판매 종료 후 통계를 볼 수 있도록 한다.\n",
        "\n",
        "menu = []    # 메뉴\n",
        "price = []    # 가격\n",
        "su = []    # 수량(default)\n",
        "sell = []    # 판매수량(판매 시 1씩 증가 / default = 0)\n",
        "auth = input(\"\"\"\n",
        "1. 관리자\n",
        "2. 고객\n",
        "3. 종료\n",
        "\"\"\")\n",
        "while True:\n",
        "    if auth == '1':\n",
        "        admin_menu = input(\"\"\"\n",
        "        1. 메뉴 추가\n",
        "        2. 매출액 보기\n",
        "        3. 처음으로\n",
        "        \"\"\")\n",
        "        if admin_menu == '1':\n",
        "            for i in range(5):\n",
        "                menu.append(input(\"메뉴명 : \"))\n",
        "                price.append(int(input(\"가격 : \")))\n",
        "                su.append(int(input(\"수량 : \")))\n",
        "                sell.append(0)\n",
        "        elif admin_menu == '2':\n",
        "            print(\"매출 결과\")\n",
        "            total_sell_price = 0\n",
        "            for i in range(len(menu)):\n",
        "                sell_price = price[i] * sell[i]\n",
        "                total_sell_price += sell_price\n",
        "                print(\"%s : %d잔\" % (menu[i], sell[i]))\n",
        "            print(\"매출액 : %d원\" % total_sell_price)\n",
        "        elif admin_menu == '3':\n",
        "            auth = input(\"\"\"\n",
        "            1. 관리자\n",
        "            2. 고객\n",
        "            3. 종료\n",
        "            \"\"\")\n",
        "        else:\n",
        "            print(\"잘못된 입력입니다.\")\n",
        "            continue\n",
        "    elif auth == '2':\n",
        "        guest_menu = input(\"\"\"\n",
        "        1. 메뉴 보기\n",
        "        2. 메뉴 주문\n",
        "        3. 처음으로\n",
        "        \"\"\")\n",
        "        if guest_menu == '1':\n",
        "            for i in range(len(menu)):\n",
        "                print(\"%s : %d원\" % (menu[i], price[i]))\n",
        "                continue\n",
        "        elif guest_menu == '2':\n",
        "            for i in range(len(menu)):\n",
        "                print(\"%d. %s\" % ((i+1), menu[i]))\n",
        "            select_menu = input(\"메뉴 선택\")\n",
        "            if int(select_menu) <= len(menu):\n",
        "                if sell[int(select_menu) - 1] >= su[int(select_menu) - 1]:\n",
        "                    print(\"재고가 부족합니다.\")\n",
        "                    continue\n",
        "                else:\n",
        "                    pay = input(\"금액을 지불해주세요. %s 가격은 %d원 입니다.\" % (menu[int(select_menu) - 1], price[int(select_menu) - 1]))\n",
        "                    if int(pay) > int(price[int(select_menu) - 1]):\n",
        "                        sell[int(select_menu) - 1] = sell[int(select_menu) - 1] + 1\n",
        "                        print(\"거스름돈은 %d원 입니다.\" % (int(pay) - price[int(select_menu) - 1]))\n",
        "                    elif int(pay) == price[int(select_menu) - 1]:\n",
        "                        sell[int(select_menu) - 1] = sell[int(select_menu) - 1] + 1\n",
        "                        print(\"거스름돈은 없습니다.\")\n",
        "                    else:\n",
        "                        print(\"금액이 부족합니다.\")\n",
        "                        continue\n",
        "            else:\n",
        "                print(\"잘못된 입력입니다.\")\n",
        "                continue\n",
        "        elif guest_menu == '3':\n",
        "            auth = input(\"\"\"\n",
        "            1. 관리자\n",
        "            2. 고객\n",
        "            3. 종료\n",
        "            \"\"\")\n",
        "        else:\n",
        "            print(\"잘못된 입력입니다.\")\n",
        "            continue\n",
        "    elif auth == '3':\n",
        "        break\n",
        "    else:\n",
        "        print(\"잘못된 입력입니다.\")\n",
        "        auth = input(\"\"\"\n",
        "        1. 관리자\n",
        "        2. 고객\n",
        "        3. 종료\n",
        "        \"\"\")"
      ],
      "metadata": {
        "colab": {
          "base_uri": "https://localhost:8080/"
        },
        "id": "xRhF5VLGQVA6",
        "outputId": "c57f1e31-7aef-46ca-85dc-22cd164a8605"
      },
      "execution_count": 37,
      "outputs": [
        {
          "name": "stdout",
          "output_type": "stream",
          "text": [
            "\n",
            "1. 관리자\n",
            "2. 고객\n",
            "3. 종료\n",
            "1\n",
            "\n",
            "        1. 메뉴 추가\n",
            "        2. 매출액 보기\n",
            "        3. 처음으로\n",
            "        1\n",
            "메뉴명 : 아메리카노\n",
            "가격 : 1500\n",
            "수량 : 30\n",
            "메뉴명 : 콜드브루\n",
            "가격 : 2000\n",
            "수량 : 25\n",
            "메뉴명 : 라떼\n",
            "가격 : 2500\n",
            "수량 : 15\n",
            "메뉴명 : 캬라멜 마끼아또\n",
            "가격 : 3500\n",
            "수량 : 10\n",
            "메뉴명 : 녹차\n",
            "가격 : 3000\n",
            "수량 : 30\n",
            "\n",
            "        1. 메뉴 추가\n",
            "        2. 매출액 보기\n",
            "        3. 처음으로\n",
            "        3\n",
            "\n",
            "            1. 관리자\n",
            "            2. 고객\n",
            "            3. 종료\n",
            "            2\n",
            "\n",
            "        1. 메뉴 보기\n",
            "        2. 메뉴 주문\n",
            "        3. 처음으로\n",
            "        1\n",
            "아메리카노 : 1500원\n",
            "콜드브루 : 2000원\n",
            "라떼 : 2500원\n",
            "캬라멜 마끼아또 : 3500원\n",
            "녹차 : 3000원\n",
            "\n",
            "        1. 메뉴 보기\n",
            "        2. 메뉴 주문\n",
            "        3. 처음으로\n",
            "        2\n",
            "1. 아메리카노\n",
            "2. 콜드브루\n",
            "3. 라떼\n",
            "4. 캬라멜 마끼아또\n",
            "5. 녹차\n",
            "메뉴 선택1\n",
            "금액을 지불해주세요. 아메리카노 가격은 1500원 입니다.2000\n",
            "거스름돈은 500원 입니다.\n",
            "\n",
            "        1. 메뉴 보기\n",
            "        2. 메뉴 주문\n",
            "        3. 처음으로\n",
            "        2\n",
            "1. 아메리카노\n",
            "2. 콜드브루\n",
            "3. 라떼\n",
            "4. 캬라멜 마끼아또\n",
            "5. 녹차\n",
            "메뉴 선택1\n",
            "금액을 지불해주세요. 아메리카노 가격은 1500원 입니다.1500\n",
            "거스름돈은 없습니다.\n",
            "\n",
            "        1. 메뉴 보기\n",
            "        2. 메뉴 주문\n",
            "        3. 처음으로\n",
            "        2\n",
            "1. 아메리카노\n",
            "2. 콜드브루\n",
            "3. 라떼\n",
            "4. 캬라멜 마끼아또\n",
            "5. 녹차\n",
            "메뉴 선택1\n",
            "금액을 지불해주세요. 아메리카노 가격은 1500원 입니다.1000\n",
            "금액이 부족합니다.\n",
            "\n",
            "        1. 메뉴 보기\n",
            "        2. 메뉴 주문\n",
            "        3. 처음으로\n",
            "        2\n",
            "1. 아메리카노\n",
            "2. 콜드브루\n",
            "3. 라떼\n",
            "4. 캬라멜 마끼아또\n",
            "5. 녹차\n",
            "메뉴 선택2\n",
            "금액을 지불해주세요. 콜드브루 가격은 2000원 입니다.5000\n",
            "거스름돈은 3000원 입니다.\n",
            "\n",
            "        1. 메뉴 보기\n",
            "        2. 메뉴 주문\n",
            "        3. 처음으로\n",
            "        2\n",
            "1. 아메리카노\n",
            "2. 콜드브루\n",
            "3. 라떼\n",
            "4. 캬라멜 마끼아또\n",
            "5. 녹차\n",
            "메뉴 선택3\n",
            "금액을 지불해주세요. 라떼 가격은 2500원 입니다.10000\n",
            "거스름돈은 7500원 입니다.\n",
            "\n",
            "        1. 메뉴 보기\n",
            "        2. 메뉴 주문\n",
            "        3. 처음으로\n",
            "        3\n",
            "\n",
            "            1. 관리자\n",
            "            2. 고객\n",
            "            3. 종료\n",
            "            1\n",
            "\n",
            "        1. 메뉴 추가\n",
            "        2. 매출액 보기\n",
            "        3. 처음으로\n",
            "        2\n",
            "매출 결과\n",
            "아메리카노 : 2잔\n",
            "콜드브루 : 1잔\n",
            "라떼 : 1잔\n",
            "캬라멜 마끼아또 : 0잔\n",
            "녹차 : 0잔\n",
            "매출액 : 7500원\n",
            "\n",
            "        1. 메뉴 추가\n",
            "        2. 매출액 보기\n",
            "        3. 처음으로\n",
            "        3\n",
            "\n",
            "            1. 관리자\n",
            "            2. 고객\n",
            "            3. 종료\n",
            "            3\n"
          ]
        }
      ]
    }
  ]
}