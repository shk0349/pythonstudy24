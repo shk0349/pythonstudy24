{
  "nbformat": 4,
  "nbformat_minor": 0,
  "metadata": {
    "colab": {
      "provenance": [],
      "authorship_tag": "ABX9TyM2xOAY6kyR1Uva0Dn6k6s9",
      "include_colab_link": true
    },
    "kernelspec": {
      "name": "python3",
      "display_name": "Python 3"
    },
    "language_info": {
      "name": "python"
    }
  },
  "cells": [
    {
      "cell_type": "markdown",
      "metadata": {
        "id": "view-in-github",
        "colab_type": "text"
      },
      "source": [
        "<a href=\"https://colab.research.google.com/github/shk0349/pythonstudy24/blob/master/IfStudy.ipynb\" target=\"_parent\"><img src=\"https://colab.research.google.com/assets/colab-badge.svg\" alt=\"Open In Colab\"/></a>"
      ]
    },
    {
      "cell_type": "markdown",
      "source": [
        "If문\n",
        "\n",
        "* 프로그램의 판단을 할 수 있는 조건문이다.\n",
        "\n",
        "* if는 만약에 라는 의미를 가지고 있으며, 참/거짓으로 판단한다."
      ],
      "metadata": {
        "id": "oK-DyseNnXuh"
      }
    },
    {
      "cell_type": "code",
      "execution_count": 10,
      "metadata": {
        "colab": {
          "base_uri": "https://localhost:8080/"
        },
        "id": "FruBQscPeZuD",
        "outputId": "81cb852e-7ab6-4751-d983-6c01c4f1f956"
      },
      "outputs": [
        {
          "output_type": "stream",
          "name": "stdout",
          "text": [
            "====================\n",
            "그냥 걸어가라.......\n",
            "====================\n"
          ]
        }
      ],
      "source": [
        "# 예시 1 / 돈이 있으면 택시를 타고 가고, 돈이 없으면 걸어간다.\n",
        "money = False    # True : Money가 있음 / False : Money가 없음\n",
        "if money:    # Python에서는 {}을 사용하지 않고 : 으로 구문을 내린다.\n",
        "    print(\"택시를 타고 가라\")    # 하위 처리를 위해서 띄어쓰기 4번 진행\n",
        "    print(\"모범택시는 비싸니 다음 택시를 기다려라\")\n",
        "    print(\"택시가 안잡히면 카카오택시를 불러라\")\n",
        "else:\n",
        "    print(\"=\"*20)\n",
        "    print(\"그냥 걸어가라.......\")\n",
        "    print(\"=\"*20)"
      ]
    },
    {
      "cell_type": "code",
      "source": [
        "# 예시 2 / 돈이 3000원 이상이면 택시를 타고가고, 3000원 미만이면 걸어가라\n",
        "money = 1500\n",
        "if money >= 3000:\n",
        "    print(\"돈이 3000원 이상 있으니 택시를 타고 가라\")\n",
        "else:\n",
        "    print(\"돈이 3000원도 없으니 그냥 걸어가라\")"
      ],
      "metadata": {
        "colab": {
          "base_uri": "https://localhost:8080/"
        },
        "id": "GEssELGkv4pZ",
        "outputId": "16fd0d5c-6951-4894-83d2-b436591cdb82"
      },
      "execution_count": 12,
      "outputs": [
        {
          "output_type": "stream",
          "name": "stdout",
          "text": [
            "돈이 3000원도 없으니 그냥 걸어가라\n"
          ]
        }
      ]
    },
    {
      "cell_type": "code",
      "source": [
        "# x or y -> 또는 (둘 중 하나만 참이어도 참) / 합집합\n",
        "# x and y -> 이고 (둘 다 참이어야 참) / 교집합\n",
        "# not x -> x가 아니면 참(거짓)\n",
        "\n",
        "# 예시 1 / 돈이 3000원 이상 있거나 카드가 있다면 택시를 타고 아니면 걸어가라\n",
        "money = 3000\n",
        "card = False\n",
        "if money >= 3000 or card:\n",
        "    print(\"돈이 3000원이 있거나 카드가 있으니 택시를 타고 가라.\")\n",
        "else:\n",
        "    print(\"돈이 3000도 없고 카드도 없으니 걸어가라...\")"
      ],
      "metadata": {
        "colab": {
          "base_uri": "https://localhost:8080/"
        },
        "id": "OQprjb43wj-t",
        "outputId": "277571c6-97d3-4d80-f4c3-f887df233f95"
      },
      "execution_count": 16,
      "outputs": [
        {
          "output_type": "stream",
          "name": "stdout",
          "text": [
            "돈이 3000원이 있거나 카드가 있으니 택시를 타고 가라.\n"
          ]
        }
      ]
    },
    {
      "cell_type": "code",
      "source": [
        "# in, not in\n",
        "# x in 리스트, x not in 리스트\n",
        "# x in 튜플, x not in 튜플\n",
        "# x in 문자열, x not in 문자열\n",
        "\n",
        "# 예시 1\n",
        "a = 4\n",
        "b = [1, 2, 3]\n",
        "if a not in b:\n",
        "    print(\"b에 a가 없습니다.\")\n",
        "else:\n",
        "    print(\"b에 a가 있습니다.\")"
      ],
      "metadata": {
        "colab": {
          "base_uri": "https://localhost:8080/"
        },
        "id": "TcNcEoKIyK0l",
        "outputId": "038d74c9-32c6-45a4-90bc-e1ea5110f67d"
      },
      "execution_count": 20,
      "outputs": [
        {
          "output_type": "stream",
          "name": "stdout",
          "text": [
            "b에 a가 없습니다.\n"
          ]
        }
      ]
    },
    {
      "cell_type": "code",
      "source": [
        "# 예시 2\n",
        "c = 'j'\n",
        "d = 'python'\n",
        "if c not in d:\n",
        "    print(\"d에 c가 없습니다.\")\n",
        "else:\n",
        "    print(\"d에 c가 있습니다.\")"
      ],
      "metadata": {
        "colab": {
          "base_uri": "https://localhost:8080/"
        },
        "id": "cdPIRy2Tz6t7",
        "outputId": "b38c457c-c7d0-4b93-dad3-a67191c0eb5e"
      },
      "execution_count": 21,
      "outputs": [
        {
          "output_type": "stream",
          "name": "stdout",
          "text": [
            "d에 c가 없습니다.\n"
          ]
        }
      ]
    },
    {
      "cell_type": "code",
      "source": [
        "# 예시 3 / 주머니에 돈이나 카드가 있으면 택시를 타고가고, 없으면 걸어가라\n",
        "pocket = ['paper', 'cellphone']\n",
        "if 'money' in pocket or 'card' in pocket:\n",
        "    print(\"주머니에 돈이나 카드가 있으니 택시를 타고 가라.\")\n",
        "else:\n",
        "    print(\"주머니에 돈도 없고 카드도 없으니 그냥 걸어가라...\")"
      ],
      "metadata": {
        "colab": {
          "base_uri": "https://localhost:8080/"
        },
        "id": "1erCqaCQ2jRh",
        "outputId": "013f866a-169f-4f8c-abbc-45f0cc2160ee"
      },
      "execution_count": 25,
      "outputs": [
        {
          "output_type": "stream",
          "name": "stdout",
          "text": [
            "주머니에 돈도 없고 카드도 없으니 그냥 걸어가라...\n"
          ]
        }
      ]
    },
    {
      "cell_type": "code",
      "source": [
        "# 조건문에서 아무 일도 하지 않게 설정하고 싶을 때 / pass 명령문 사용\n",
        "# 조건문의 참, 거짓에 따라 실행할 행동을 정의할 때나 아무런 일도 하지 않도록 설정하고 싶을 때\n",
        "# 예시 / 주머니에 돈이 있으면 가만히 있고, 주머니에 돈이 없으면 카드를 꺼내라\n",
        "pocket = ['paper', 'cellphone', 'card']\n",
        "if 'money' in pocket:\n",
        "    pass    # skip 기능 / pass를 쓰지 않으면 오류발생\n",
        "else:\n",
        "    print(\"주머니에 돈이 없으니 카드를 꺼내라.\")"
      ],
      "metadata": {
        "colab": {
          "base_uri": "https://localhost:8080/"
        },
        "id": "aswD3imz54Sf",
        "outputId": "6dab3cc0-6a71-415d-97d0-2fa1768980ed"
      },
      "execution_count": 29,
      "outputs": [
        {
          "output_type": "stream",
          "name": "stdout",
          "text": [
            "주머니에 돈이 없으니 카드를 꺼내라.\n"
          ]
        }
      ]
    },
    {
      "cell_type": "code",
      "source": [
        "# elif는 if문 아래 쪽에 한번 더 비교하는 조건문(elif 사용횟수는 무제한)\n",
        "# 예시 / 주머니에 돈이나 카드가 있으면 택시를 타고, 둘 다 없으면 걸어가라\n",
        "pocket = ['paper', 'cellphone']\n",
        "if 'money' in pocket and 'card' in pocket:\n",
        "    print(\"주머니에 돈도 있고 카드도 있네요. 택시를 타도 무방합니다.\")\n",
        "elif 'money' in pocket:\n",
        "    print(\"주머니에 돈이 있네요. 택시를 타도 무방합니다.\")\n",
        "elif 'card' in pocket:\n",
        "    print(\"주머니에 카드가 있네요. 택시를 타도 무방합니다.\")\n",
        "else:\n",
        "    print(\"돈도 없고 카드도 없는데 그냥 걸어가세요...\")"
      ],
      "metadata": {
        "colab": {
          "base_uri": "https://localhost:8080/"
        },
        "id": "vdU5JvGJ7VQF",
        "outputId": "493c5901-8db7-473d-f5cc-a2f01ecf8a56"
      },
      "execution_count": 37,
      "outputs": [
        {
          "output_type": "stream",
          "name": "stdout",
          "text": [
            "돈도 없고 카드도 없는데 그냥 걸어가세요...\n"
          ]
        }
      ]
    },
    {
      "cell_type": "code",
      "source": [
        "# 패션코딩 : 최대한 간결하게 코딩하는 기법\n",
        "pocket = ['paper', 'cellphone']\n",
        "if 'money' in pocket and 'card' in pocket: print(\"주머니에 돈도 있고 카드도 있네요. 택시를 타도 무방합니다.\")\n",
        "elif 'money' in pocket: print(\"주머니에 돈이 있네요. 택시를 타도 무방합니다.\")\n",
        "elif 'card' in pocket: print(\"주머니에 카드가 있네요. 택시를 타도 무방합니다.\")\n",
        "else: print(\"돈도 없고 카드도 없는데 그냥 걸어가세요...\")"
      ],
      "metadata": {
        "colab": {
          "base_uri": "https://localhost:8080/"
        },
        "id": "a0pEpBxR-7H0",
        "outputId": "d32f43b4-f05c-4550-bd4d-3e2fede33e50"
      },
      "execution_count": 38,
      "outputs": [
        {
          "output_type": "stream",
          "name": "stdout",
          "text": [
            "돈도 없고 카드도 없는데 그냥 걸어가세요...\n"
          ]
        }
      ]
    },
    {
      "cell_type": "code",
      "source": [
        "# 예시 1 /시험 점수가 60점 이상이면 success, 아니면 failure 출력\n",
        "kor = 80\n",
        "eng = 75\n",
        "mat = 49\n",
        "avg = round((kor + eng + mat) / 3, 2)\n",
        "if avg >= 60:\n",
        "    result = 'success'\n",
        "else:\n",
        "    result = 'failure'\n",
        "print(\"평균점수가 \" + str(avg) + \"점이므로 \" + result + \" 입니다.\")"
      ],
      "metadata": {
        "colab": {
          "base_uri": "https://localhost:8080/"
        },
        "id": "JBU_FSaZ_TnB",
        "outputId": "cc6629ef-899f-4557-9901-fddfa413a6d7"
      },
      "execution_count": 47,
      "outputs": [
        {
          "output_type": "stream",
          "name": "stdout",
          "text": [
            "평균점수가 68.0점이므로 success 입니다.\n"
          ]
        }
      ]
    },
    {
      "cell_type": "code",
      "source": [
        "# 예시 2 / 성적 처리용 코드 작성 A ~ F등급까지 출력\n",
        "name = input(\"이름을 입력하세요.\")\n",
        "if name.strip()  == \"\":\n",
        "    print(\"이름이 공백입니다.\")\n",
        "else:\n",
        "    kor = input(\"국어점수를 입력하세요.\")\n",
        "    eng = input(\"영어점수를 입력하세요.\")\n",
        "    mat = input(\"수학점수를 입력하세요.\")\n",
        "    if not (kor.isdigit() and eng.isdigit() and mat.isdigit()):\n",
        "        print(\"점수가 숫자가 아닙니다...\")\n",
        "    elif kor.strip() == \"\" or eng.strip() == \"\" or mat.strip() == \"\":\n",
        "        print(\"점수가 공백입니다...\")\n",
        "    elif int(kor) > 100 or int(kor) < 0 or int(eng) > 100 or int(eng) < 0 or int(mat) > 100 or int(mat) < 0:\n",
        "        print(\"점수는 0부터 100까지 숫자만 입력하세요...\")\n",
        "    else:\n",
        "        tot = kor + eng + mat\n",
        "        avg = round(tot / 3, 2)\n",
        "        if avg>=90: grade = 'A'\n",
        "        elif avg>=80: grade = 'B'\n",
        "        elif avg>=70: grade = 'C'\n",
        "        elif avg>=60: grade = 'D'\n",
        "        else: grade = 'F'\n",
        "        print(name + \" 학생의 평균점수는 \" + str(avg) + \"점이고, 학점은 \" + grade + \" 입니다.\")"
      ],
      "metadata": {
        "colab": {
          "base_uri": "https://localhost:8080/"
        },
        "id": "Jkxy7qb1A8Iu",
        "outputId": "cd4d4c00-2607-455e-b6c4-e2e63e0731c6"
      },
      "execution_count": 71,
      "outputs": [
        {
          "output_type": "stream",
          "name": "stdout",
          "text": [
            "이름을 입력하세요.ㅇ\n",
            "국어점수를 입력하세요.101\n",
            "영어점수를 입력하세요.99\n",
            "수학점수를 입력하세요.55\n",
            "점수는 0부터 100까지 숫자만 입력하세요...\n"
          ]
        }
      ]
    }
  ]
}