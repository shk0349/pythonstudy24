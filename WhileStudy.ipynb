{
  "nbformat": 4,
  "nbformat_minor": 0,
  "metadata": {
    "colab": {
      "provenance": [],
      "authorship_tag": "ABX9TyMzt10o5EQFMRdAg2oHsqXN",
      "include_colab_link": true
    },
    "kernelspec": {
      "name": "python3",
      "display_name": "Python 3"
    },
    "language_info": {
      "name": "python"
    }
  },
  "cells": [
    {
      "cell_type": "markdown",
      "metadata": {
        "id": "view-in-github",
        "colab_type": "text"
      },
      "source": [
        "<a href=\"https://colab.research.google.com/github/shk0349/pythonstudy24/blob/master/WhileStudy.ipynb\" target=\"_parent\"><img src=\"https://colab.research.google.com/assets/colab-badge.svg\" alt=\"Open In Colab\"/></a>"
      ]
    },
    {
      "cell_type": "markdown",
      "source": [
        "While문\n",
        "\n",
        "* 문장을 반복해서 수행해야 하는 경우 활용\n",
        "* 여러 데이터를 처리해야하는 경우 활용\n",
        "* 예를 들어 if문에서 성적처리 시 1명에 대한 데이터만 처리하지만 while문은 여러명의 데이터를 받아 더 큰 프로그램 구성이 가능함\n",
        "* 반복문은 while문과 for문으로 구분되며, while문은 max가 없는 경우 / for문은 max가 있는 경우 사용됨\n",
        "* 예시)\n",
        "\n",
        "    while 조건문:\n",
        "        실행문 1\n",
        "        실행문 2\n",
        "           .\n",
        "           .\n",
        "           .\n",
        "        실행문 n\n",
        "* Java에서는 0으로 실행문의 블럭을 만들지만 Python에서는 들여쓰기로 판단함."
      ],
      "metadata": {
        "id": "cmrP6pKEfsSi"
      }
    },
    {
      "cell_type": "code",
      "execution_count": 5,
      "metadata": {
        "colab": {
          "base_uri": "https://localhost:8080/"
        },
        "id": "_ZyNwRaIfh0H",
        "outputId": "aa3ad43b-01a0-406f-925a-f9bdf300d4d4"
      },
      "outputs": [
        {
          "output_type": "stream",
          "name": "stdout",
          "text": [
            "벌목을 시작합니다.\n",
            "나무를 1번 찍었습니다.\n",
            "아직 멀었다.\n",
            "나무를 2번 찍었습니다.\n",
            "아직 멀었다.\n",
            "나무를 3번 찍었습니다.\n",
            "아직 멀었다.\n",
            "나무를 4번 찍었습니다.\n",
            "아직 멀었다.\n",
            "나무를 5번 찍었습니다.\n",
            "아직 멀었다.\n",
            "나무를 6번 찍었습니다.\n",
            "아직 멀었다.\n",
            "나무를 7번 찍었습니다.\n",
            "아직 멀었다.\n",
            "나무를 8번 찍었습니다.\n",
            "아직 멀었다.\n",
            "나무를 9번 찍었습니다.\n",
            "아직 멀었다.\n",
            "나무를 10번 찍었습니다.\n",
            "나무가 넘어갑니다.\n"
          ]
        }
      ],
      "source": [
        "# 예시 1 / 열번 찍어 안넘아가는 나무 없다.\n",
        "treehit = 0\n",
        "print(\"벌목을 시작합니다.\")\n",
        "while treehit < 10:\n",
        "    treehit += 1\n",
        "    print(\"나무를 %d번 찍었습니다.\" % treehit)\n",
        "    if treehit == 10:\n",
        "        print(\"나무가 넘어갑니다.\")\n",
        "    else:\n",
        "        print(\"아직 멀었다.\")"
      ]
    },
    {
      "cell_type": "code",
      "source": [
        "# 예시 2 / 콘솔에서 프로그램 만들어보기\n",
        "promt = \"\"\"\n",
        "1. 회원가입\n",
        "2. 성적입력\n",
        "3. 성적출력\n",
        "4. Quit\n",
        "\n",
        "원하는 작업을 선택하시오.\n",
        "\"\"\"\n",
        "number = 0    # 키보드로 전달되는 변수 초기값\n",
        "while number != 4:    # 4가 아닐때까지 반복 -> 4 입력 시 while문 종료\n",
        "    print(promt)    # 4가 아닐때 promt 출력\n",
        "    number = int(input())    # 반복 중에 입력받을 promt 비교 값"
      ],
      "metadata": {
        "colab": {
          "base_uri": "https://localhost:8080/"
        },
        "id": "zZoW0UopioK0",
        "outputId": "790357be-a7fc-448f-f636-694c69ea74d6"
      },
      "execution_count": 8,
      "outputs": [
        {
          "name": "stdout",
          "output_type": "stream",
          "text": [
            "\n",
            "1. 회원가입\n",
            "2. 성적입력\n",
            "3. 성적출력\n",
            "4. Quit\n",
            "\n",
            "원하는 작업을 선택하시오.   \n",
            "\n",
            "1\n",
            "\n",
            "1. 회원가입\n",
            "2. 성적입력\n",
            "3. 성적출력\n",
            "4. Quit\n",
            "\n",
            "원하는 작업을 선택하시오.   \n",
            "\n",
            "4\n"
          ]
        }
      ]
    },
    {
      "cell_type": "code",
      "source": [
        "# 예시 3 / 커피자판기 프로그램 1\n",
        "coffee = 10\n",
        "print(\"오늘의 커피 10잔 판매를 시작합니다.\")\n",
        "while coffee > 0:\n",
        "    print(\"커피 1잔 나왔습니다.\")\n",
        "    coffee -= 1\n",
        "    print(\"남은 커피는 %d잔입니다.\" % coffee)\n",
        "\n",
        "if coffee == 0:\n",
        "    print(\"오늘 준비된 커피가 모두 소진되었습니다. 내일 다시 방문해주세요.\")"
      ],
      "metadata": {
        "colab": {
          "base_uri": "https://localhost:8080/"
        },
        "id": "A3wdCgLHivCk",
        "outputId": "0de8e1d1-d7b8-433f-c2cd-b68b007c723e"
      },
      "execution_count": 19,
      "outputs": [
        {
          "output_type": "stream",
          "name": "stdout",
          "text": [
            "오늘의 커피 10잔 판매를 시작합니다.\n",
            "커피 1잔 나왔습니다.\n",
            "남은 커피는 9잔입니다.\n",
            "커피 1잔 나왔습니다.\n",
            "남은 커피는 8잔입니다.\n",
            "커피 1잔 나왔습니다.\n",
            "남은 커피는 7잔입니다.\n",
            "커피 1잔 나왔습니다.\n",
            "남은 커피는 6잔입니다.\n",
            "커피 1잔 나왔습니다.\n",
            "남은 커피는 5잔입니다.\n",
            "커피 1잔 나왔습니다.\n",
            "남은 커피는 4잔입니다.\n",
            "커피 1잔 나왔습니다.\n",
            "남은 커피는 3잔입니다.\n",
            "커피 1잔 나왔습니다.\n",
            "남은 커피는 2잔입니다.\n",
            "커피 1잔 나왔습니다.\n",
            "남은 커피는 1잔입니다.\n",
            "커피 1잔 나왔습니다.\n",
            "남은 커피는 0잔입니다.\n",
            "오늘 준비된 커피가 모두 소진되었습니다. 내일 다시 방문해주세요.\n"
          ]
        }
      ]
    },
    {
      "cell_type": "code",
      "source": [
        "# 예시 3 / 커피자판기 프로그램 2\n",
        "coffee = 10\n",
        "money = 300\n",
        "print(\"오늘의 커피 10잔 판매를 시작합니다.\")\n",
        "while money:\n",
        "    print(\"커피 1잔 나왔습니다.\")\n",
        "    coffee -= 1\n",
        "    print(\"남은 커피는 %d잔입니다.\" % coffee)\n",
        "    if coffee == 0:\n",
        "        print(\"오늘 준비된 커피가 모두 소진되었습니다. 내일 다시 방문해주세요.\")\n",
        "        break\n",
        "    else: pass"
      ],
      "metadata": {
        "colab": {
          "base_uri": "https://localhost:8080/"
        },
        "id": "s-2NnJURmkfv",
        "outputId": "5808be12-1c35-436a-a68c-29c349ba9aaa"
      },
      "execution_count": 20,
      "outputs": [
        {
          "output_type": "stream",
          "name": "stdout",
          "text": [
            "오늘의 커피 10잔 판매를 시작합니다.\n",
            "커피 1잔 나왔습니다.\n",
            "남은 커피는 9잔입니다.\n",
            "커피 1잔 나왔습니다.\n",
            "남은 커피는 8잔입니다.\n",
            "커피 1잔 나왔습니다.\n",
            "남은 커피는 7잔입니다.\n",
            "커피 1잔 나왔습니다.\n",
            "남은 커피는 6잔입니다.\n",
            "커피 1잔 나왔습니다.\n",
            "남은 커피는 5잔입니다.\n",
            "커피 1잔 나왔습니다.\n",
            "남은 커피는 4잔입니다.\n",
            "커피 1잔 나왔습니다.\n",
            "남은 커피는 3잔입니다.\n",
            "커피 1잔 나왔습니다.\n",
            "남은 커피는 2잔입니다.\n",
            "커피 1잔 나왔습니다.\n",
            "남은 커피는 1잔입니다.\n",
            "커피 1잔 나왔습니다.\n",
            "남은 커피는 0잔입니다.\n",
            "오늘 준비된 커피가 모두 소진되었습니다. 내일 다시 방문해주세요.\n"
          ]
        }
      ]
    },
    {
      "cell_type": "code",
      "source": [
        "# 예시 4\n",
        "# 조건 1 관리자가 커피 가격과 커피명을 정하고 갯수를 입력\n",
        "# 조건 2 소비자가 커피를 구매하는데 잔돈이 나와야 함\n",
        "# 조건 3 판매 종료 후 관리자가 커피를 판매한 총액을 파악\n",
        "\n",
        "americano = 30\n",
        "latte = 15\n",
        "greentea = 25\n",
        "americano_price = 2000\n",
        "latte_price = 2500\n",
        "greentea_price = 3000\n",
        "\n",
        "def print_auth():\n",
        "    auth = input(\"\"\"\n",
        "    1. 손님\n",
        "    2. 관리자\n",
        "    3. 프로그램 종료\n",
        "    \"\"\")\n",
        "    return auth\n",
        "\n",
        "def print_guest_order():\n",
        "    guest_order = input(\"\"\"\n",
        "    1. 메뉴보기\n",
        "    2. 주문하기\n",
        "    \"\"\")\n",
        "    return guest_order\n",
        "\n",
        "def print_menu():\n",
        "    print(\"1. 아메리카노 : %d원\" % americano_price)\n",
        "    print(\"2. 라떼 : %d원\" % latte_price)\n",
        "    print(\"3. 녹차 : %d원\" % greentea_price)\n",
        "\n",
        "def print_order(menu):\n",
        "    global americano, latte, greentea\n",
        "    if menu == '1':\n",
        "        if americano > 0:\n",
        "            americano -= 1\n",
        "            print(f\"주문하신 아메리카노 1잔 나왔습니다. 남은 수량: {americano}잔\")\n",
        "        else:\n",
        "            print(\"아메리카노가 모두 소진되었습니다.\")\n",
        "    elif menu == '2':\n",
        "        if latte > 0:\n",
        "            latte -= 1\n",
        "            print(f\"주문하신 라떼 1잔 나왔습니다. 남은 수량: {latte}잔\")\n",
        "        else:\n",
        "            print(\"라떼가 모두 소진되었습니다.\")\n",
        "    elif menu == '3':\n",
        "        if greentea > 0:\n",
        "            greentea -= 1\n",
        "            print(f\"주문하신 녹차 1잔 나왔습니다. 남은 수량: {greentea}잔\")\n",
        "        else:\n",
        "            print(\"녹차가 모두 소진되었습니다.\")\n",
        "    else:\n",
        "        print(\"잘못된 메뉴입니다.\")\n",
        "\n",
        "def print_admin():\n",
        "    global americano, latte, greentea\n",
        "    print(f\"\"\"\n",
        "    판매량\n",
        "    1. 아메리카노 : {30 - americano}잔\n",
        "    2. 라떼 : {15 - latte}잔\n",
        "    3. 녹차 : {25 - greentea}잔\n",
        "    \"\"\")\n",
        "    total = (americano_price * (30 - americano)) + (latte_price * (15 - latte)) + (greentea_price * (25 - greentea))\n",
        "    print(f\"총 매출액 : {total}원\")\n",
        "\n",
        "def main():\n",
        "    print(\"매장 방문을 환영합니다.\")\n",
        "    auth = print_auth()\n",
        "    while True:\n",
        "\n",
        "        if auth == '1':\n",
        "            guest_order = print_guest_order()\n",
        "            if guest_order == '1':\n",
        "                print_menu()\n",
        "            elif guest_order == '2':\n",
        "                while True:\n",
        "                    print_menu()\n",
        "                    menu = input(\"주문할 메뉴를 선택해주세요 (1~3): \")\n",
        "                    print_order(menu)\n",
        "                    extra = input(\"추가 주문하시겠습니까? (Y/N): \").lower()\n",
        "                    if extra == 'n':\n",
        "                        break\n",
        "            else:\n",
        "                print(\"잘못된 입력입니다.\")\n",
        "        elif auth == '2':\n",
        "            print_admin()\n",
        "        elif auth == '3':\n",
        "            print(\"프로그램을 종료합니다.\")\n",
        "            break\n",
        "        else:\n",
        "            print(\"잘못된 입력입니다.\")\n",
        "\n",
        "main()\n"
      ],
      "metadata": {
        "colab": {
          "base_uri": "https://localhost:8080/",
          "height": 700
        },
        "id": "lffRECRDocmp",
        "outputId": "107fd748-764f-4d2c-b8d2-db85fde13fc2"
      },
      "execution_count": 82,
      "outputs": [
        {
          "output_type": "stream",
          "name": "stdout",
          "text": [
            "매장 방문을 환영합니다.\n",
            "\n",
            "    1. 손님\n",
            "    2. 관리자\n",
            "    3. 프로그램 종료\n",
            "    1\n",
            "\n",
            "    1. 메뉴보기\n",
            "    2. 주문하기\n",
            "    1\n",
            "1. 아메리카노 : 2000원\n",
            "2. 라떼 : 2500원\n",
            "3. 녹차 : 3000원\n",
            "\n",
            "    1. 메뉴보기\n",
            "    2. 주문하기\n",
            "    2\n",
            "1. 아메리카노 : 2000원\n",
            "2. 라떼 : 2500원\n",
            "3. 녹차 : 3000원\n"
          ]
        },
        {
          "output_type": "error",
          "ename": "KeyboardInterrupt",
          "evalue": "Interrupted by user",
          "traceback": [
            "\u001b[0;31m---------------------------------------------------------------------------\u001b[0m",
            "\u001b[0;31mKeyboardInterrupt\u001b[0m                         Traceback (most recent call last)",
            "\u001b[0;32m<ipython-input-82-e8d6805f22e8>\u001b[0m in \u001b[0;36m<cell line: 94>\u001b[0;34m()\u001b[0m\n\u001b[1;32m     92\u001b[0m             \u001b[0mprint\u001b[0m\u001b[0;34m(\u001b[0m\u001b[0;34m\"잘못된 입력입니다.\"\u001b[0m\u001b[0;34m)\u001b[0m\u001b[0;34m\u001b[0m\u001b[0;34m\u001b[0m\u001b[0m\n\u001b[1;32m     93\u001b[0m \u001b[0;34m\u001b[0m\u001b[0m\n\u001b[0;32m---> 94\u001b[0;31m \u001b[0mmain\u001b[0m\u001b[0;34m(\u001b[0m\u001b[0;34m)\u001b[0m\u001b[0;34m\u001b[0m\u001b[0;34m\u001b[0m\u001b[0m\n\u001b[0m",
            "\u001b[0;32m<ipython-input-82-e8d6805f22e8>\u001b[0m in \u001b[0;36mmain\u001b[0;34m()\u001b[0m\n\u001b[1;32m     77\u001b[0m                 \u001b[0;32mwhile\u001b[0m \u001b[0;32mTrue\u001b[0m\u001b[0;34m:\u001b[0m\u001b[0;34m\u001b[0m\u001b[0;34m\u001b[0m\u001b[0m\n\u001b[1;32m     78\u001b[0m                     \u001b[0mprint_menu\u001b[0m\u001b[0;34m(\u001b[0m\u001b[0;34m)\u001b[0m\u001b[0;34m\u001b[0m\u001b[0;34m\u001b[0m\u001b[0m\n\u001b[0;32m---> 79\u001b[0;31m                     \u001b[0mmenu\u001b[0m \u001b[0;34m=\u001b[0m \u001b[0minput\u001b[0m\u001b[0;34m(\u001b[0m\u001b[0;34m\"주문할 메뉴를 선택해주세요 (1~3): \"\u001b[0m\u001b[0;34m)\u001b[0m\u001b[0;34m\u001b[0m\u001b[0;34m\u001b[0m\u001b[0m\n\u001b[0m\u001b[1;32m     80\u001b[0m                     \u001b[0mprint_order\u001b[0m\u001b[0;34m(\u001b[0m\u001b[0mmenu\u001b[0m\u001b[0;34m)\u001b[0m\u001b[0;34m\u001b[0m\u001b[0;34m\u001b[0m\u001b[0m\n\u001b[1;32m     81\u001b[0m                     \u001b[0mextra\u001b[0m \u001b[0;34m=\u001b[0m \u001b[0minput\u001b[0m\u001b[0;34m(\u001b[0m\u001b[0;34m\"추가 주문하시겠습니까? (Y/N): \"\u001b[0m\u001b[0;34m)\u001b[0m\u001b[0;34m.\u001b[0m\u001b[0mlower\u001b[0m\u001b[0;34m(\u001b[0m\u001b[0;34m)\u001b[0m\u001b[0;34m\u001b[0m\u001b[0;34m\u001b[0m\u001b[0m\n",
            "\u001b[0;32m/usr/local/lib/python3.10/dist-packages/ipykernel/kernelbase.py\u001b[0m in \u001b[0;36mraw_input\u001b[0;34m(self, prompt)\u001b[0m\n\u001b[1;32m    849\u001b[0m                 \u001b[0;34m\"raw_input was called, but this frontend does not support input requests.\"\u001b[0m\u001b[0;34m\u001b[0m\u001b[0;34m\u001b[0m\u001b[0m\n\u001b[1;32m    850\u001b[0m             )\n\u001b[0;32m--> 851\u001b[0;31m         return self._input_request(str(prompt),\n\u001b[0m\u001b[1;32m    852\u001b[0m             \u001b[0mself\u001b[0m\u001b[0;34m.\u001b[0m\u001b[0m_parent_ident\u001b[0m\u001b[0;34m,\u001b[0m\u001b[0;34m\u001b[0m\u001b[0;34m\u001b[0m\u001b[0m\n\u001b[1;32m    853\u001b[0m             \u001b[0mself\u001b[0m\u001b[0;34m.\u001b[0m\u001b[0m_parent_header\u001b[0m\u001b[0;34m,\u001b[0m\u001b[0;34m\u001b[0m\u001b[0;34m\u001b[0m\u001b[0m\n",
            "\u001b[0;32m/usr/local/lib/python3.10/dist-packages/ipykernel/kernelbase.py\u001b[0m in \u001b[0;36m_input_request\u001b[0;34m(self, prompt, ident, parent, password)\u001b[0m\n\u001b[1;32m    893\u001b[0m             \u001b[0;32mexcept\u001b[0m \u001b[0mKeyboardInterrupt\u001b[0m\u001b[0;34m:\u001b[0m\u001b[0;34m\u001b[0m\u001b[0;34m\u001b[0m\u001b[0m\n\u001b[1;32m    894\u001b[0m                 \u001b[0;31m# re-raise KeyboardInterrupt, to truncate traceback\u001b[0m\u001b[0;34m\u001b[0m\u001b[0;34m\u001b[0m\u001b[0m\n\u001b[0;32m--> 895\u001b[0;31m                 \u001b[0;32mraise\u001b[0m \u001b[0mKeyboardInterrupt\u001b[0m\u001b[0;34m(\u001b[0m\u001b[0;34m\"Interrupted by user\"\u001b[0m\u001b[0;34m)\u001b[0m \u001b[0;32mfrom\u001b[0m \u001b[0;32mNone\u001b[0m\u001b[0;34m\u001b[0m\u001b[0;34m\u001b[0m\u001b[0m\n\u001b[0m\u001b[1;32m    896\u001b[0m             \u001b[0;32mexcept\u001b[0m \u001b[0mException\u001b[0m \u001b[0;32mas\u001b[0m \u001b[0me\u001b[0m\u001b[0;34m:\u001b[0m\u001b[0;34m\u001b[0m\u001b[0;34m\u001b[0m\u001b[0m\n\u001b[1;32m    897\u001b[0m                 \u001b[0mself\u001b[0m\u001b[0;34m.\u001b[0m\u001b[0mlog\u001b[0m\u001b[0;34m.\u001b[0m\u001b[0mwarning\u001b[0m\u001b[0;34m(\u001b[0m\u001b[0;34m\"Invalid Message:\"\u001b[0m\u001b[0;34m,\u001b[0m \u001b[0mexc_info\u001b[0m\u001b[0;34m=\u001b[0m\u001b[0;32mTrue\u001b[0m\u001b[0;34m)\u001b[0m\u001b[0;34m\u001b[0m\u001b[0;34m\u001b[0m\u001b[0m\n",
            "\u001b[0;31mKeyboardInterrupt\u001b[0m: Interrupted by user"
          ]
        }
      ]
    }
  ]
}