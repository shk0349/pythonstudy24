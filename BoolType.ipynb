{
  "nbformat": 4,
  "nbformat_minor": 0,
  "metadata": {
    "colab": {
      "provenance": [],
      "authorship_tag": "ABX9TyN5I3FHtubadJQpC/Egr523",
      "include_colab_link": true
    },
    "kernelspec": {
      "name": "python3",
      "display_name": "Python 3"
    },
    "language_info": {
      "name": "python"
    }
  },
  "cells": [
    {
      "cell_type": "markdown",
      "metadata": {
        "id": "view-in-github",
        "colab_type": "text"
      },
      "source": [
        "<a href=\"https://colab.research.google.com/github/shk0349/pythonstudy24/blob/master/BoolType.ipynb\" target=\"_parent\"><img src=\"https://colab.research.google.com/assets/colab-badge.svg\" alt=\"Open In Colab\"/></a>"
      ]
    },
    {
      "cell_type": "markdown",
      "source": [
        "불 자료형\n",
        "\n",
        "참(True)과 거짓(False)을 나타내는 자료형이며, 아래 2가지 값만을 가질 수 있음\n",
        "1. True : 참을 의미\n",
        "2. False : 거짓을 의미\n",
        "\n",
        "True나 False는 Python의 예약어로 첫 문자를 항상 대문자로 작성해야함\n",
        "\n",
        "(true나 false 처럼 소문자로 시작하면 안됨)\n",
        "\n",
        "문자열, 리스트, 튜플, 딕셔너리 등의 값이 비어있는 경우(\"\", [], (), {}) False이고, 비어있지 않은 경우는 True이다.\n",
        "\n",
        "숫자에서는 값이 0일 때 True이며, None도 False이다.\n",
        "\n",
        "True / False 기준\n",
        "\n",
        "\"python\" -> True / \"\" -> False\n",
        "\n",
        "[1, 2, 3] -> True / [] -> False\n",
        "\n",
        "(1, 2, 3) -> True / () -> False\n",
        "\n",
        "{'a':1} -> True / {} -> False\n",
        "1 -> True / 0 -> False / None -> False"
      ],
      "metadata": {
        "id": "4Che4VSYnHJW"
      }
    },
    {
      "cell_type": "code",
      "execution_count": 1,
      "metadata": {
        "colab": {
          "base_uri": "https://localhost:8080/"
        },
        "id": "3IqpeXsZnEwK",
        "outputId": "763dcaa2-448e-4252-b5c1-227860289359"
      },
      "outputs": [
        {
          "output_type": "execute_result",
          "data": {
            "text/plain": [
              "bool"
            ]
          },
          "metadata": {},
          "execution_count": 1
        }
      ],
      "source": [
        "# 불 자료형 생성\n",
        "# 예시\n",
        "a = True    # True 나 False는 \"\"로 묶지 않아도 오류 없음\n",
        "b = False\n",
        "type(a)"
      ]
    },
    {
      "cell_type": "code",
      "source": [
        "# 조건문에서 bool 출력\n",
        "# 예시 1\n",
        "1 == 1"
      ],
      "metadata": {
        "colab": {
          "base_uri": "https://localhost:8080/"
        },
        "id": "BC2lguFDn6ga",
        "outputId": "930ef82c-436a-448e-daac-e041bb142ea0"
      },
      "execution_count": 2,
      "outputs": [
        {
          "output_type": "execute_result",
          "data": {
            "text/plain": [
              "True"
            ]
          },
          "metadata": {},
          "execution_count": 2
        }
      ]
    },
    {
      "cell_type": "code",
      "source": [
        "# 예시 2\n",
        "2 < 1"
      ],
      "metadata": {
        "colab": {
          "base_uri": "https://localhost:8080/"
        },
        "id": "VAwtKeEGoJLM",
        "outputId": "90dfedea-3d6e-4492-fbe7-70469b1b86d0"
      },
      "execution_count": 3,
      "outputs": [
        {
          "output_type": "execute_result",
          "data": {
            "text/plain": [
              "False"
            ]
          },
          "metadata": {},
          "execution_count": 3
        }
      ]
    },
    {
      "cell_type": "code",
      "source": [
        "# 예시 3\n",
        "bool('python')    # bool(값) 함수를 이용하여도 불 연산 가능"
      ],
      "metadata": {
        "colab": {
          "base_uri": "https://localhost:8080/"
        },
        "id": "E5I9xcSeoLnM",
        "outputId": "72b3481d-1837-4d2f-84ad-dada7fe927f1"
      },
      "execution_count": 4,
      "outputs": [
        {
          "output_type": "execute_result",
          "data": {
            "text/plain": [
              "True"
            ]
          },
          "metadata": {},
          "execution_count": 4
        }
      ]
    },
    {
      "cell_type": "code",
      "source": [
        "# 예시 4\n",
        "bool('')    # bool(값) 함수를 이용하여도 불 연산 가능"
      ],
      "metadata": {
        "colab": {
          "base_uri": "https://localhost:8080/"
        },
        "id": "NazzPmLwp6L1",
        "outputId": "308c38ff-adcf-4c8f-b296-f95bd73bb37c"
      },
      "execution_count": 5,
      "outputs": [
        {
          "output_type": "execute_result",
          "data": {
            "text/plain": [
              "False"
            ]
          },
          "metadata": {},
          "execution_count": 5
        }
      ]
    }
  ]
}