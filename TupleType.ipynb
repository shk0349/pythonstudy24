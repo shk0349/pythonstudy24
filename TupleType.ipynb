{
  "nbformat": 4,
  "nbformat_minor": 0,
  "metadata": {
    "colab": {
      "provenance": [],
      "authorship_tag": "ABX9TyNVM/D8xniJn+Zuw8mFCDRQ",
      "include_colab_link": true
    },
    "kernelspec": {
      "name": "python3",
      "display_name": "Python 3"
    },
    "language_info": {
      "name": "python"
    }
  },
  "cells": [
    {
      "cell_type": "markdown",
      "metadata": {
        "id": "view-in-github",
        "colab_type": "text"
      },
      "source": [
        "<a href=\"https://colab.research.google.com/github/shk0349/pythonstudy24/blob/master/TupleType.ipynb\" target=\"_parent\"><img src=\"https://colab.research.google.com/assets/colab-badge.svg\" alt=\"Open In Colab\"/></a>"
      ]
    },
    {
      "cell_type": "markdown",
      "source": [
        "튜플 자료형\n",
        "\n",
        "튜플은 리스트와 거의 유사함, 차이점은 ()로 둘러쌈\n",
        "\n",
        "리스트는 CRUD가 가능하지만 튜플은 CR만 가능(읽기 전용)\n",
        "\n",
        "Java의 Collections.unmodifiableList() 기능과 유사함.\n",
        "\n",
        "https://velog.io/@clean01/Java-%EB%B3%80%EA%B2%BD%EC%9D%B4-%EB%B6%88%EA%B0%80%EB%8A%A5%ED%95%9C-Collection%EC%9D%84-%EB%A7%8C%EB%93%A4%EA%B8%B0-Immutable-Collection-Immutable-List"
      ],
      "metadata": {
        "id": "lCIcVM2DVjPB"
      }
    },
    {
      "cell_type": "code",
      "execution_count": null,
      "metadata": {
        "id": "-LO3HSnQU__9"
      },
      "outputs": [],
      "source": [
        "# 튜플 생성하기\n",
        "# 예시\n",
        "t1 = ()    # 빈 객체\n",
        "t2 = (1,)    # 1개의 요소만 가질 때 쉼표를 반드시 붙여야 함\n",
        "t3 = (1, 2, 3)\n",
        "t4 = 1, 2, 3    # 괄호()는 생략 가능\n",
        "t5 = ('a', 'b', ('ab', 'cd'))    # 2차원 튜플\n",
        "\n",
        "# 튜플과 리스트의 가장 큰 차이는 요솟값을 면화시킬 수 있는지에 대한 여부(튜플은 불가능)\n",
        "# 프로그램이 실행되는 동안 요솟값이 항상 변하지 않기를 바란다면 튜플을 사용하면 됨"
      ]
    },
    {
      "cell_type": "code",
      "source": [
        "# 예시\n",
        "t1 = (1, 2, 'a', 'b')\n",
        "del t1[0]"
      ],
      "metadata": {
        "colab": {
          "base_uri": "https://localhost:8080/",
          "height": 184
        },
        "id": "SAspnWKQX0BH",
        "outputId": "19751aa6-3b6c-4b48-e46f-56670931b185"
      },
      "execution_count": 2,
      "outputs": [
        {
          "output_type": "error",
          "ename": "TypeError",
          "evalue": "'tuple' object doesn't support item deletion",
          "traceback": [
            "\u001b[0;31m---------------------------------------------------------------------------\u001b[0m",
            "\u001b[0;31mTypeError\u001b[0m                                 Traceback (most recent call last)",
            "\u001b[0;32m<ipython-input-2-f724f3a62895>\u001b[0m in \u001b[0;36m<cell line: 3>\u001b[0;34m()\u001b[0m\n\u001b[1;32m      1\u001b[0m \u001b[0;31m# 예시\u001b[0m\u001b[0;34m\u001b[0m\u001b[0;34m\u001b[0m\u001b[0m\n\u001b[1;32m      2\u001b[0m \u001b[0mt1\u001b[0m \u001b[0;34m=\u001b[0m \u001b[0;34m(\u001b[0m\u001b[0;36m1\u001b[0m\u001b[0;34m,\u001b[0m \u001b[0;36m2\u001b[0m\u001b[0;34m,\u001b[0m \u001b[0;34m'a'\u001b[0m\u001b[0;34m,\u001b[0m \u001b[0;34m'b'\u001b[0m\u001b[0;34m)\u001b[0m\u001b[0;34m\u001b[0m\u001b[0;34m\u001b[0m\u001b[0m\n\u001b[0;32m----> 3\u001b[0;31m \u001b[0;32mdel\u001b[0m \u001b[0mt1\u001b[0m\u001b[0;34m[\u001b[0m\u001b[0;36m0\u001b[0m\u001b[0;34m]\u001b[0m\u001b[0;34m\u001b[0m\u001b[0;34m\u001b[0m\u001b[0m\n\u001b[0m",
            "\u001b[0;31mTypeError\u001b[0m: 'tuple' object doesn't support item deletion"
          ]
        }
      ]
    },
    {
      "cell_type": "code",
      "source": [
        "# 예시\n",
        "t1[0] = 'c'"
      ],
      "metadata": {
        "colab": {
          "base_uri": "https://localhost:8080/",
          "height": 166
        },
        "id": "LvFX7BUVYIYT",
        "outputId": "17aba353-1c77-46ac-8fe5-737e8d01131a"
      },
      "execution_count": 3,
      "outputs": [
        {
          "output_type": "error",
          "ename": "TypeError",
          "evalue": "'tuple' object does not support item assignment",
          "traceback": [
            "\u001b[0;31m---------------------------------------------------------------------------\u001b[0m",
            "\u001b[0;31mTypeError\u001b[0m                                 Traceback (most recent call last)",
            "\u001b[0;32m<ipython-input-3-ad70f0c64e78>\u001b[0m in \u001b[0;36m<cell line: 2>\u001b[0;34m()\u001b[0m\n\u001b[1;32m      1\u001b[0m \u001b[0;31m# 예시\u001b[0m\u001b[0;34m\u001b[0m\u001b[0;34m\u001b[0m\u001b[0m\n\u001b[0;32m----> 2\u001b[0;31m \u001b[0mt1\u001b[0m\u001b[0;34m[\u001b[0m\u001b[0;36m0\u001b[0m\u001b[0;34m]\u001b[0m \u001b[0;34m=\u001b[0m \u001b[0;34m'c'\u001b[0m\u001b[0;34m\u001b[0m\u001b[0;34m\u001b[0m\u001b[0m\n\u001b[0m",
            "\u001b[0;31mTypeError\u001b[0m: 'tuple' object does not support item assignment"
          ]
        }
      ]
    },
    {
      "cell_type": "code",
      "source": [
        "# 튜플 더하기\n",
        "# 예시\n",
        "t1 = (1, 2, 'a', 'b')\n",
        "t2 = (3, 4)\n",
        "t0 = t1 + t2\n",
        "print(t0)"
      ],
      "metadata": {
        "colab": {
          "base_uri": "https://localhost:8080/"
        },
        "id": "O77sr7EBaX0x",
        "outputId": "71911bc9-b3e2-46d4-873c-059a4a2924ab"
      },
      "execution_count": 2,
      "outputs": [
        {
          "output_type": "stream",
          "name": "stdout",
          "text": [
            "(1, 2, 'a', 'b', 3, 4)\n"
          ]
        }
      ]
    },
    {
      "cell_type": "code",
      "source": [
        "# 튜플 곱하기 / 곱한 횟수만큼 반복\n",
        "t00 = t2 * 5\n",
        "print(t00)"
      ],
      "metadata": {
        "colab": {
          "base_uri": "https://localhost:8080/"
        },
        "id": "5YKrvSd8ao8Z",
        "outputId": "f744de27-98f5-423c-b644-281508965511"
      },
      "execution_count": 4,
      "outputs": [
        {
          "output_type": "stream",
          "name": "stdout",
          "text": [
            "(3, 4, 3, 4, 3, 4, 3, 4, 3, 4)\n"
          ]
        }
      ]
    },
    {
      "cell_type": "code",
      "source": [
        "# 튜플 길이 구하기\n",
        "len(t1)"
      ],
      "metadata": {
        "colab": {
          "base_uri": "https://localhost:8080/"
        },
        "id": "dZMyzQDea6-g",
        "outputId": "7b464876-ebee-4042-ac01-f2ad961f6752"
      },
      "execution_count": 5,
      "outputs": [
        {
          "output_type": "execute_result",
          "data": {
            "text/plain": [
              "4"
            ]
          },
          "metadata": {},
          "execution_count": 5
        }
      ]
    }
  ]
}