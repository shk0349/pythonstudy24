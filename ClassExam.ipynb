{
  "nbformat": 4,
  "nbformat_minor": 0,
  "metadata": {
    "colab": {
      "provenance": [],
      "authorship_tag": "ABX9TyOsVKEdxG4yNZ+eQwkRpA14",
      "include_colab_link": true
    },
    "kernelspec": {
      "name": "python3",
      "display_name": "Python 3"
    },
    "language_info": {
      "name": "python"
    }
  },
  "cells": [
    {
      "cell_type": "markdown",
      "metadata": {
        "id": "view-in-github",
        "colab_type": "text"
      },
      "source": [
        "<a href=\"https://colab.research.google.com/github/shk0349/pythonstudy24/blob/master/ClassExam.ipynb\" target=\"_parent\"><img src=\"https://colab.research.google.com/assets/colab-badge.svg\" alt=\"Open In Colab\"/></a>"
      ]
    },
    {
      "cell_type": "markdown",
      "source": [
        "# 클래스는 객체지향 언어의 필수로 각각의 객체를 담당\n",
        "\n",
        "만약 ShoppingMall 프로젝트를 만든다고 가정할 시\n",
        "\n",
        "회원용.py, 아이템.py, 게시판.py, 장바구니.py 등이 main.py와 연동되게 설정한다.\n",
        "\n",
        "각 .py들에 동작(메서드) C, R, U, D, other를 포함.."
      ],
      "metadata": {
        "id": "HryLwlURiozY"
      }
    },
    {
      "cell_type": "code",
      "execution_count": 1,
      "metadata": {
        "colab": {
          "base_uri": "https://localhost:8080/"
        },
        "id": "ckRhYjZNicl6",
        "outputId": "9b6030be-6a73-45e5-cdc1-ca8424ad4516"
      },
      "outputs": [
        {
          "output_type": "stream",
          "name": "stdout",
          "text": [
            "4\n"
          ]
        }
      ],
      "source": [
        "# 예시 1 / 계산기 처리용 클래스\n",
        "result = 0\n",
        "\n",
        "def add(num):\n",
        "    global result    # 전역변수 사용\n",
        "    result += num    # 메서드에 입력값을 더함\n",
        "    return result    # 결과값 리턴\n",
        "\n",
        "print(add(4))    # 위에 만든 메서드에 4를 입력하고 리턴값 출력"
      ]
    },
    {
      "cell_type": "code",
      "source": [
        "# 예시 2 / result 값은 계속 누적\n",
        "print(add(9))"
      ],
      "metadata": {
        "colab": {
          "base_uri": "https://localhost:8080/"
        },
        "id": "z4AdOPaik6Lj",
        "outputId": "cf6e00be-cea9-4103-f5f3-323cb7d112a2"
      },
      "execution_count": 2,
      "outputs": [
        {
          "output_type": "stream",
          "name": "stdout",
          "text": [
            "13\n"
          ]
        }
      ]
    },
    {
      "cell_type": "code",
      "source": [
        "# 만일 한 프로그램에서 2대의 계산기가 필요한 상황\n",
        "result1 = 0\n",
        "result2 = 0\n",
        "\n",
        "def add1(num):\n",
        "    global result1\n",
        "    result1 += num\n",
        "    return result1\n",
        "\n",
        "def add2(num):\n",
        "    global result2\n",
        "    result2 += num\n",
        "    return result2"
      ],
      "metadata": {
        "id": "g1FkxSFMlKgY"
      },
      "execution_count": null,
      "outputs": []
    },
    {
      "cell_type": "code",
      "source": [
        "# 클래스를 이용한 계산기\n",
        "# 예시\n",
        "class  Calculator:    # 객체생성(생성자용 메서드, 일반 메서드)\n",
        "    def __init__(self):    # 생성자(객체 생성시 0순위로 처리됨)\n",
        "        self.result = 0    # 객체 자신에 result 변수를 만들고 0값을 넣음\n",
        "\n",
        "    def add(self, num):    # 객체용 메서드\n",
        "        self.result += num    # 생성자에 있는 변수에 num을 누적 저장\n",
        "        return self.result    # 결과를 리턴함"
      ],
      "metadata": {
        "id": "yC6cJzuImDfZ"
      },
      "execution_count": 6,
      "outputs": []
    },
    {
      "cell_type": "code",
      "source": [
        "# 객체를 생성하여 변수에 연결 / Java : Calculator cal1 = new Calculator()\n",
        "# 계산기 작동 확인 1\n",
        "cal1 = Calculator()    # 객체 1\n",
        "cal2 = Calculator()    # 객체 2\n",
        "\n",
        "print(cal1.add(3))"
      ],
      "metadata": {
        "colab": {
          "base_uri": "https://localhost:8080/"
        },
        "id": "_M3XqjXPnXzZ",
        "outputId": "40e21a15-4be1-4e3a-bef5-bcc15f568b29"
      },
      "execution_count": 7,
      "outputs": [
        {
          "output_type": "stream",
          "name": "stdout",
          "text": [
            "3\n"
          ]
        }
      ]
    },
    {
      "cell_type": "code",
      "source": [
        "# 계산기 작동 확인 2\n",
        "print(cal1.add(9))"
      ],
      "metadata": {
        "colab": {
          "base_uri": "https://localhost:8080/"
        },
        "id": "5k2UQ5uioNM5",
        "outputId": "8340e334-3f91-415f-e0df-68ba7de80065"
      },
      "execution_count": 8,
      "outputs": [
        {
          "output_type": "stream",
          "name": "stdout",
          "text": [
            "12\n"
          ]
        }
      ]
    },
    {
      "cell_type": "code",
      "source": [
        "# 계산기 작동 확인 3\n",
        "print(cal2.add(5))"
      ],
      "metadata": {
        "colab": {
          "base_uri": "https://localhost:8080/"
        },
        "id": "O41oYIFnoQkO",
        "outputId": "5a9a0f80-689d-488a-847d-7d9f875497a2"
      },
      "execution_count": 9,
      "outputs": [
        {
          "output_type": "stream",
          "name": "stdout",
          "text": [
            "5\n"
          ]
        }
      ]
    },
    {
      "cell_type": "code",
      "source": [
        "# 계산기 작동 확인 4\n",
        "print(cal2.add(9))"
      ],
      "metadata": {
        "colab": {
          "base_uri": "https://localhost:8080/"
        },
        "id": "oE6sD3z8oSwW",
        "outputId": "81382a64-8b49-4913-8f88-e0a27d869886"
      },
      "execution_count": 10,
      "outputs": [
        {
          "output_type": "stream",
          "name": "stdout",
          "text": [
            "14\n"
          ]
        }
      ]
    },
    {
      "cell_type": "code",
      "source": [
        "# 클래스를 활용한 4칙연산 계산기 만들기\n",
        "\n",
        "class FourCal:\n",
        "    #pass    # 아무 기능없이 동작\n",
        "    # Field : 객체마다 가지고 있어야 할 데이터들(DTO, VO)\n",
        "    first = 0\n",
        "    second = 0\n",
        "\n",
        "    def __init__(self, first, second):    # 생성자 : 객체를 생성할 때 필요한 무언가........ / 생성자의 이름은 __init__ 로 무조건 생성해야함\n",
        "        self.first = first\n",
        "        self.second = second\n",
        "\n",
        "    def setdata(self, first, second):    # 메서드 선언(self 필수)\n",
        "        self.first = first    # Java에서 this.first = first와 동일\n",
        "        self.second = second\n",
        "\n",
        "    def add(self):\n",
        "        result = self.first + self.second\n",
        "        return result\n",
        "\n",
        "    def sub(self):\n",
        "        result = self.first - self.second\n",
        "        return result\n",
        "\n",
        "    def mul(self):\n",
        "        result = self.first * self.second\n",
        "        return result\n",
        "\n",
        "    def div(self):\n",
        "        result = self.first / self.second\n",
        "        return result"
      ],
      "metadata": {
        "id": "kj_a2l-8p2XR"
      },
      "execution_count": 42,
      "outputs": []
    },
    {
      "cell_type": "code",
      "source": [
        "a = FourCal()    # a 변수에 객체가 연결됨\n",
        "a.setdata(4, 2)    # a 변수를 self로 처리함"
      ],
      "metadata": {
        "id": "OvBIilYKqHP-"
      },
      "execution_count": 26,
      "outputs": []
    },
    {
      "cell_type": "code",
      "source": [
        "b = FourCal()\n",
        "FourCal.setdata(b, 4, 2)"
      ],
      "metadata": {
        "id": "LlElLHmhuai9"
      },
      "execution_count": 27,
      "outputs": []
    },
    {
      "cell_type": "code",
      "source": [
        "print(a.first)"
      ],
      "metadata": {
        "colab": {
          "base_uri": "https://localhost:8080/"
        },
        "id": "LyQ_K15Fu4DO",
        "outputId": "4e2a6a8d-8daa-4dd0-e4d1-95f4e431bbca"
      },
      "execution_count": 17,
      "outputs": [
        {
          "output_type": "stream",
          "name": "stdout",
          "text": [
            "4\n"
          ]
        }
      ]
    },
    {
      "cell_type": "code",
      "source": [
        "print(b.second)"
      ],
      "metadata": {
        "colab": {
          "base_uri": "https://localhost:8080/"
        },
        "id": "u9ftlEp8u9-I",
        "outputId": "f4dc7860-0908-4549-c451-344b0c4c0ec8"
      },
      "execution_count": 18,
      "outputs": [
        {
          "output_type": "stream",
          "name": "stdout",
          "text": [
            "2\n"
          ]
        }
      ]
    },
    {
      "cell_type": "code",
      "source": [
        "c = FourCal()\n",
        "c.setdata(5, 5)\n",
        "c.mul()"
      ],
      "metadata": {
        "colab": {
          "base_uri": "https://localhost:8080/"
        },
        "id": "mB6WuqxjveUL",
        "outputId": "bfb4fe58-8e74-4669-8638-7d37c3549947"
      },
      "execution_count": 35,
      "outputs": [
        {
          "output_type": "execute_result",
          "data": {
            "text/plain": [
              "25"
            ]
          },
          "metadata": {},
          "execution_count": 35
        }
      ]
    },
    {
      "cell_type": "code",
      "source": [
        "d = FourCal(5, 5)\n",
        "d.add()"
      ],
      "metadata": {
        "colab": {
          "base_uri": "https://localhost:8080/"
        },
        "id": "PUeewxevwp3p",
        "outputId": "c40e8a23-1737-4be9-9e76-cc6d3f6914dd"
      },
      "execution_count": 45,
      "outputs": [
        {
          "output_type": "execute_result",
          "data": {
            "text/plain": [
              "10"
            ]
          },
          "metadata": {},
          "execution_count": 45
        }
      ]
    },
    {
      "cell_type": "code",
      "source": [
        "# 상속기능 : 부모가 만든 객체를 보완 또는 추가하는 기능\n",
        "\n",
        "class MoreFourCal(FourCal):\n",
        "\n",
        "    def pow(self):\n",
        "        result =self.first ** self.second\n",
        "        return result\n",
        "\n",
        "    # 오버라이딩 : 부모객체가 만든 메서드를 변경하여 사용\n",
        "    def div(self):\n",
        "        if self.second == 0 or self.first == 0:\n",
        "            return 0\n",
        "        else:\n",
        "            return self.first / self.second"
      ],
      "metadata": {
        "id": "KPoCse25y1K-"
      },
      "execution_count": 58,
      "outputs": []
    },
    {
      "cell_type": "code",
      "source": [
        "e = MoreFourCal(4, 4)\n",
        "e.add()"
      ],
      "metadata": {
        "colab": {
          "base_uri": "https://localhost:8080/"
        },
        "id": "DVuePHyWzA2h",
        "outputId": "0313dca2-f3d6-478b-9949-1e4586d3af03"
      },
      "execution_count": 52,
      "outputs": [
        {
          "output_type": "execute_result",
          "data": {
            "text/plain": [
              "8"
            ]
          },
          "metadata": {},
          "execution_count": 52
        }
      ]
    },
    {
      "cell_type": "code",
      "source": [
        "e.pow()"
      ],
      "metadata": {
        "colab": {
          "base_uri": "https://localhost:8080/"
        },
        "id": "NyHVHKdx0QuZ",
        "outputId": "aed6c97f-130b-42b9-a8ff-7cd3c32e2056"
      },
      "execution_count": 53,
      "outputs": [
        {
          "output_type": "execute_result",
          "data": {
            "text/plain": [
              "256"
            ]
          },
          "metadata": {},
          "execution_count": 53
        }
      ]
    },
    {
      "cell_type": "code",
      "source": [
        "f = MoreFourCal(4, 0)\n",
        "f.div()"
      ],
      "metadata": {
        "colab": {
          "base_uri": "https://localhost:8080/"
        },
        "id": "Nmat7-Le02vI",
        "outputId": "180951c9-2ed3-459b-fa75-ae177eebed74"
      },
      "execution_count": 64,
      "outputs": [
        {
          "output_type": "execute_result",
          "data": {
            "text/plain": [
              "0"
            ]
          },
          "metadata": {},
          "execution_count": 64
        }
      ]
    }
  ]
}