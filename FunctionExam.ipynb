{
  "nbformat": 4,
  "nbformat_minor": 0,
  "metadata": {
    "colab": {
      "provenance": [],
      "authorship_tag": "ABX9TyMabOcY9UyWhQszi6m5KAs9",
      "include_colab_link": true
    },
    "kernelspec": {
      "name": "python3",
      "display_name": "Python 3"
    },
    "language_info": {
      "name": "python"
    }
  },
  "cells": [
    {
      "cell_type": "markdown",
      "metadata": {
        "id": "view-in-github",
        "colab_type": "text"
      },
      "source": [
        "<a href=\"https://colab.research.google.com/github/shk0349/pythonstudy24/blob/master/FunctionExam.ipynb\" target=\"_parent\"><img src=\"https://colab.research.google.com/assets/colab-badge.svg\" alt=\"Open In Colab\"/></a>"
      ]
    },
    {
      "cell_type": "markdown",
      "source": [
        "Function(함수)\n",
        "\n",
        "함수는 단일 동작을 수행하는 블럭을 말한다.\n",
        "\n",
        "Java에서는 {} 블럭 단위로 수행하나, Python은 인터프리터로 줄 단위 수행\n",
        "\n",
        "프로그램의 메모리 영역은 크게 3가지로 나누어진다.\n",
        "1. 스택영역 : 변수에 기본타입이나 참조타입을 연결\n",
        "2. 힙영역 : 객체를 생성해서 주소를 가지고 있음\n",
        "3. 메서드영역 : 동작들을 보관하고 있다가 호출되면 매개값(Parameter)과 처리후 리턴을 제공(함수나 메서드를 보관)\n",
        "\n",
        "함수를 사용하는 이유 : 반복적인 코드 발생을 최소화하기 위함.\n"
      ],
      "metadata": {
        "id": "9dXVf5wv8OER"
      }
    },
    {
      "cell_type": "code",
      "execution_count": 7,
      "metadata": {
        "colab": {
          "base_uri": "https://localhost:8080/"
        },
        "id": "6_Fpflqp8GhX",
        "outputId": "c4ad1f11-4099-4779-aba6-b93f3e1f4a22"
      },
      "outputs": [
        {
          "output_type": "stream",
          "name": "stdout",
          "text": [
            "add() 종료\n",
            "김기원\n"
          ]
        }
      ],
      "source": [
        "# Python 함수의 구조\n",
        "# def 함수 생성 / define(정의하다)의 약자 /\n",
        "# 사용예\n",
        "# def 함수이름(매개변수):\n",
        "#     실행문 1\n",
        "#     실행문 2\n",
        "#        .\n",
        "#        .\n",
        "#     실행문 n\n",
        "\n",
        "# 예시\n",
        "def add(a, b):    # add라는 함수를 정의(생성)하며, 매개값은 2개(a, b)를 받는다.\n",
        "    print(\"add() 종료\")\n",
        "    return a + b    # 매개값으로 받은 2개의 변수를 더한 후 리턴 -> add 매서드 종료\n",
        "\n",
        "print(add(\"김\", \"기원\"))"
      ]
    },
    {
      "cell_type": "code",
      "source": [
        "# *args : 매개값이 몇개인지 모를 때(1개 이상)\n",
        "# 예시 1\n",
        "def add_many(*args):    # *args 매개값이 1개 이상\n",
        "    result = 0    # 결과를 저장하는 변수\n",
        "    for i in args:    # *args는 리스트로 저장됨\n",
        "        result += i\n",
        "    return result\n",
        "\n",
        "print(add_many(1, 2, 3, 4, 5, 6, 7, 8, 9))\n",
        "# args는 관례(프로그래머들끼리의 약속)"
      ],
      "metadata": {
        "colab": {
          "base_uri": "https://localhost:8080/"
        },
        "id": "cfwUF6N7KJr2",
        "outputId": "0063c86d-2836-4e68-d061-89e536ff31ed"
      },
      "execution_count": 10,
      "outputs": [
        {
          "output_type": "stream",
          "name": "stdout",
          "text": [
            "45\n"
          ]
        }
      ]
    },
    {
      "cell_type": "code",
      "source": [
        "# 예시 2\n",
        "test = add_many(9, 8, 7, 6)\n",
        "print(test)"
      ],
      "metadata": {
        "colab": {
          "base_uri": "https://localhost:8080/"
        },
        "id": "MVfrFhZ7LuNM",
        "outputId": "975c43f4-cd63-41d2-931a-9759327f8dea"
      },
      "execution_count": 11,
      "outputs": [
        {
          "output_type": "stream",
          "name": "stdout",
          "text": [
            "30\n"
          ]
        }
      ]
    },
    {
      "cell_type": "code",
      "source": [
        "# 예시 3\n",
        "def add_mul(choice, *args):\n",
        "    if choice == \"add\":\n",
        "        result = 0\n",
        "        for i in args:\n",
        "            result += i\n",
        "    elif choice == \"mul\":\n",
        "        result = 1\n",
        "        for i in args:\n",
        "            result *= i\n",
        "    return result"
      ],
      "metadata": {
        "id": "wnANA20iMAaG"
      },
      "execution_count": 13,
      "outputs": []
    },
    {
      "cell_type": "code",
      "source": [
        "# 예시 4\n",
        "result = add_mul(\"add\", 1, 2, 3, 4, 5)\n",
        "print(result)"
      ],
      "metadata": {
        "colab": {
          "base_uri": "https://localhost:8080/"
        },
        "id": "WtLw6-ynM_o7",
        "outputId": "ffd2e696-0ba4-4b94-942b-eff098e985a0"
      },
      "execution_count": 14,
      "outputs": [
        {
          "output_type": "stream",
          "name": "stdout",
          "text": [
            "15\n"
          ]
        }
      ]
    },
    {
      "cell_type": "code",
      "source": [
        "# 예시 5\n",
        "result = add_mul(\"mul\", 1, 2, 3, 4, 5)\n",
        "print(result)"
      ],
      "metadata": {
        "colab": {
          "base_uri": "https://localhost:8080/"
        },
        "id": "NqkBJpU_NQ18",
        "outputId": "95a9f592-998f-4d1c-cbc9-80a991285a75"
      },
      "execution_count": 15,
      "outputs": [
        {
          "output_type": "stream",
          "name": "stdout",
          "text": [
            "120\n"
          ]
        }
      ]
    },
    {
      "cell_type": "code",
      "source": [
        "# 예시 6\n",
        "result = add_mul(\"add\", \"김\", \"기\", \"원\")\n",
        "print(result)"
      ],
      "metadata": {
        "colab": {
          "base_uri": "https://localhost:8080/",
          "height": 311
        },
        "id": "fVlXea-uObEi",
        "outputId": "ac0e32db-5e82-40cd-a943-2d7332b665aa"
      },
      "execution_count": 16,
      "outputs": [
        {
          "output_type": "error",
          "ename": "TypeError",
          "evalue": "unsupported operand type(s) for +=: 'int' and 'str'",
          "traceback": [
            "\u001b[0;31m---------------------------------------------------------------------------\u001b[0m",
            "\u001b[0;31mTypeError\u001b[0m                                 Traceback (most recent call last)",
            "\u001b[0;32m<ipython-input-16-bd266df30602>\u001b[0m in \u001b[0;36m<cell line: 2>\u001b[0;34m()\u001b[0m\n\u001b[1;32m      1\u001b[0m \u001b[0;31m# 예시 6\u001b[0m\u001b[0;34m\u001b[0m\u001b[0;34m\u001b[0m\u001b[0m\n\u001b[0;32m----> 2\u001b[0;31m \u001b[0mresult\u001b[0m \u001b[0;34m=\u001b[0m \u001b[0madd_mul\u001b[0m\u001b[0;34m(\u001b[0m\u001b[0;34m\"add\"\u001b[0m\u001b[0;34m,\u001b[0m \u001b[0;34m\"김\"\u001b[0m\u001b[0;34m,\u001b[0m \u001b[0;34m\"기\"\u001b[0m\u001b[0;34m,\u001b[0m \u001b[0;34m\"원\"\u001b[0m\u001b[0;34m)\u001b[0m\u001b[0;34m\u001b[0m\u001b[0;34m\u001b[0m\u001b[0m\n\u001b[0m\u001b[1;32m      3\u001b[0m \u001b[0mprint\u001b[0m\u001b[0;34m(\u001b[0m\u001b[0mresult\u001b[0m\u001b[0;34m)\u001b[0m\u001b[0;34m\u001b[0m\u001b[0;34m\u001b[0m\u001b[0m\n",
            "\u001b[0;32m<ipython-input-13-44e9b76a5691>\u001b[0m in \u001b[0;36madd_mul\u001b[0;34m(choice, *args)\u001b[0m\n\u001b[1;32m      4\u001b[0m         \u001b[0mresult\u001b[0m \u001b[0;34m=\u001b[0m \u001b[0;36m0\u001b[0m\u001b[0;34m\u001b[0m\u001b[0;34m\u001b[0m\u001b[0m\n\u001b[1;32m      5\u001b[0m         \u001b[0;32mfor\u001b[0m \u001b[0mi\u001b[0m \u001b[0;32min\u001b[0m \u001b[0margs\u001b[0m\u001b[0;34m:\u001b[0m\u001b[0;34m\u001b[0m\u001b[0;34m\u001b[0m\u001b[0m\n\u001b[0;32m----> 6\u001b[0;31m             \u001b[0mresult\u001b[0m \u001b[0;34m+=\u001b[0m \u001b[0mi\u001b[0m\u001b[0;34m\u001b[0m\u001b[0;34m\u001b[0m\u001b[0m\n\u001b[0m\u001b[1;32m      7\u001b[0m     \u001b[0;32melif\u001b[0m \u001b[0mchoice\u001b[0m \u001b[0;34m==\u001b[0m \u001b[0;34m\"mul\"\u001b[0m\u001b[0;34m:\u001b[0m\u001b[0;34m\u001b[0m\u001b[0;34m\u001b[0m\u001b[0m\n\u001b[1;32m      8\u001b[0m         \u001b[0mresult\u001b[0m \u001b[0;34m=\u001b[0m \u001b[0;36m1\u001b[0m\u001b[0;34m\u001b[0m\u001b[0;34m\u001b[0m\u001b[0m\n",
            "\u001b[0;31mTypeError\u001b[0m: unsupported operand type(s) for +=: 'int' and 'str'"
          ]
        }
      ]
    },
    {
      "cell_type": "code",
      "source": [
        "# **kwargs : 키워드 매개변수 (딕셔너리)\n",
        "# 예시 1\n",
        "def print_kwargs(**kwargs):\n",
        "    print(kwargs)\n",
        "\n",
        "print_kwargs(a = 323)"
      ],
      "metadata": {
        "colab": {
          "base_uri": "https://localhost:8080/"
        },
        "id": "PKveuVItOwhU",
        "outputId": "ae249ac6-81cb-4612-e5f5-50416ea50092"
      },
      "execution_count": 18,
      "outputs": [
        {
          "output_type": "stream",
          "name": "stdout",
          "text": [
            "{'a': 323}\n"
          ]
        }
      ]
    },
    {
      "cell_type": "code",
      "source": [
        "# 예시 2\n",
        "print_kwargs(id=\"kkw\", pw=\"kkw1!\", phone=5678, email=\"1q2w3e@naver.com\")"
      ],
      "metadata": {
        "colab": {
          "base_uri": "https://localhost:8080/"
        },
        "id": "4Zd-snkiPTd6",
        "outputId": "6852bd2e-020e-454b-83b0-40046dcc52aa"
      },
      "execution_count": 19,
      "outputs": [
        {
          "output_type": "stream",
          "name": "stdout",
          "text": [
            "{'id': 'kkw', 'pw': 'kkw1!', 'phone': 5678, 'email': '1q2w3e@naver.com'}\n"
          ]
        }
      ]
    },
    {
      "cell_type": "code",
      "source": [
        "# 만약 리턴값이 2개\n",
        "# 예시 1\n",
        "def add_and_mul(a, b):\n",
        "    return a + b, a * b, a - b\n",
        "\n",
        "z, y, x = add_and_mul(3, 4)\n",
        "print(z)\n",
        "print(y)\n",
        "print(x)"
      ],
      "metadata": {
        "colab": {
          "base_uri": "https://localhost:8080/"
        },
        "id": "5k7D8YCCQTCA",
        "outputId": "eede9b57-1fc9-4a82-fbb5-f7912a19333d"
      },
      "execution_count": 22,
      "outputs": [
        {
          "output_type": "stream",
          "name": "stdout",
          "text": [
            "7\n",
            "12\n",
            "-1\n"
          ]
        }
      ]
    },
    {
      "cell_type": "code",
      "source": [
        "# 예시 2\n",
        "def say_myself(name, old, man=True):\n",
        "    print(\"나의 이름은 %s 입니다.\" % name)\n",
        "    print(\"나이는 %d살 입니다.\" % old)\n",
        "    if man:\n",
        "        print(\"남자입니다.\")\n",
        "    else:\n",
        "        print(\"여자입니다.\")\n",
        "\n",
        "say_myself(\"시바사키\", 28)"
      ],
      "metadata": {
        "colab": {
          "base_uri": "https://localhost:8080/"
        },
        "id": "hAli19b0RNdQ",
        "outputId": "d55c4d01-1bbf-475f-f7cc-01ede309d549"
      },
      "execution_count": 30,
      "outputs": [
        {
          "output_type": "stream",
          "name": "stdout",
          "text": [
            "나의 이름은 시바사키 입니다.\n",
            "나이는 28살 입니다.\n",
            "남자입니다.\n"
          ]
        }
      ]
    },
    {
      "cell_type": "code",
      "source": [
        "# 예시 3\n",
        "say_myself(\"시바사키\", 28, False)"
      ],
      "metadata": {
        "colab": {
          "base_uri": "https://localhost:8080/"
        },
        "id": "OR949C5oR9Ml",
        "outputId": "00bf89d3-89b3-4031-f458-b99d1b813723"
      },
      "execution_count": 31,
      "outputs": [
        {
          "output_type": "stream",
          "name": "stdout",
          "text": [
            "나의 이름은 시바사키 입니다.\n",
            "나이는 28살 입니다.\n",
            "여자입니다.\n"
          ]
        }
      ]
    },
    {
      "cell_type": "code",
      "source": [
        "# 람다식 : 인터페이스 형태의 실행문이 1개인 코드\n",
        "# Java에서 람다식은 -> 사용하고 JavaScript에서는 => 을 사용한다.\n",
        "# Python에서 람다식은 변수 = lambda 매개변수 : 실행문 으로 사용한다\n",
        "# 예시\n",
        "add = lambda a, b: a + b\n",
        "result = add(3, 4)\n",
        "print(result)"
      ],
      "metadata": {
        "colab": {
          "base_uri": "https://localhost:8080/"
        },
        "id": "cMgQItLNSh5_",
        "outputId": "20fd0ef1-36fc-4433-e35f-e6232b525fc3"
      },
      "execution_count": 32,
      "outputs": [
        {
          "output_type": "stream",
          "name": "stdout",
          "text": [
            "7\n"
          ]
        }
      ]
    },
    {
      "cell_type": "code",
      "source": [
        "# 미션 / 커피 자판기를 리스트화 하여 for문으로 구현하라\n",
        "# 커피 종류가 5개 이상(커피명, 수량, 단가)\n",
        "# 사용자가 커피를 반복 구매 가능\n",
        "# 관리자가 판매 종료 후 통계를 볼 수 있도록 한다.\n",
        "# 단, 함수를 이용해서 만드시오.\n",
        "\n",
        "menu = []    # 메뉴\n",
        "price = []    # 가격\n",
        "su = []    # 수량(default)\n",
        "sell = []    # 판매수량(판매 시 1씩 증가 / default = 0)\n",
        "\n",
        "def print_auth():\n",
        "    auth = input(\"\"\"\n",
        "    1. 관리자\n",
        "    2. 고객\n",
        "    3. 종료\n",
        "    \"\"\")\n",
        "    return auth\n",
        "\n",
        "def print_admin_menu():\n",
        "    admin_menu = input(\"\"\"\n",
        "    1. 메뉴 추가\n",
        "    2. 매출액 보기\n",
        "    3. 처음으로\n",
        "    \"\"\")\n",
        "    return admin_menu\n",
        "\n",
        "def print_admin_menu_plus():\n",
        "    menu.append(input(\"메뉴명 : \"))\n",
        "    price.append(int(input(\"가격 : \")))\n",
        "    su.append(int(input(\"수량 : \")))\n",
        "    sell.append(0)\n",
        "    print(\"메뉴가 추가되었습니다.\")\n",
        "\n",
        "def print_admin_total_sell():\n",
        "    print(\"매출 결과\")\n",
        "    total_sell_price = 0\n",
        "    for i in range(len(menu)):\n",
        "        sell_price = price[i] * sell[i]\n",
        "        total_sell_price += sell_price\n",
        "        print(\"%s : %d잔\" % (menu[i], sell[i]))\n",
        "    print(\"매출액 : %d원\" % total_sell_price)\n",
        "\n",
        "def print_error():\n",
        "    print(\"잘못된 입력입니다.\")\n",
        "\n",
        "def print_guest_menu():\n",
        "    guest_menu = input(\"\"\"\n",
        "    1. 메뉴 보기\n",
        "    2. 메뉴 주문\n",
        "    3. 처음으로\n",
        "    \"\"\")\n",
        "    return guest_menu\n",
        "\n",
        "def print_menu():\n",
        "    for i in range(len(menu)):\n",
        "        print(\"%s : %d원\" % (menu[i], price[i]))\n",
        "        continue\n",
        "\n",
        "def print_select_menu():\n",
        "    for i in range(len(menu)):\n",
        "        print(\"%d. %s\" % ((i+1), menu[i]))\n",
        "    select_menu = input(\"메뉴 선택\")\n",
        "    return select_menu\n",
        "\n",
        "def main():\n",
        "    auth = print_auth()\n",
        "    while True:\n",
        "        if auth == '1':\n",
        "            admin_menu = print_admin_menu()\n",
        "            if admin_menu == '1':\n",
        "                print_admin_menu_plus()\n",
        "            elif admin_menu == '2':\n",
        "                print_admin_total_sell()\n",
        "            elif admin_menu == '3':\n",
        "                auth = print_auth()\n",
        "            else:\n",
        "                print_error\n",
        "                continue\n",
        "        elif auth == '2':\n",
        "            guest_menu = print_guest_menu()\n",
        "            if guest_menu == '1':\n",
        "                print_menu()\n",
        "            elif guest_menu == '2':\n",
        "                select_menu = print_select_menu()\n",
        "                if int(select_menu) <= len(menu):\n",
        "                    if sell[int(select_menu) - 1] >= su[int(select_menu) - 1]:\n",
        "                        print(\"재고가 부족합니다.\")\n",
        "                        continue\n",
        "                    else:\n",
        "                        pay = input(\"금액을 지불해주세요. %s 가격은 %d원 입니다.\" % (menu[int(select_menu) - 1], price[int(select_menu) - 1]))\n",
        "                        if int(pay) > int(price[int(select_menu) - 1]):\n",
        "                            sell[int(select_menu) - 1] = sell[int(select_menu) - 1] + 1\n",
        "                            print(\"거스름돈은 %d원 입니다.\" % (int(pay) - price[int(select_menu) - 1]))\n",
        "                        elif int(pay) == price[int(select_menu) - 1]:\n",
        "                            sell[int(select_menu) - 1] = sell[int(select_menu) - 1] + 1\n",
        "                            print(\"거스름돈은 없습니다.\")\n",
        "                        else:\n",
        "                            print(\"금액이 부족합니다.\")\n",
        "                            continue\n",
        "                else:\n",
        "                    print_error()\n",
        "                    continue\n",
        "            elif guest_menu == '3':\n",
        "                auth = print_auth()\n",
        "            else:\n",
        "                print_error()\n",
        "                continue\n",
        "        elif auth == '3':\n",
        "            break\n",
        "        else:\n",
        "            print_error()\n",
        "            auth = print_auth()\n",
        "\n",
        "main()"
      ],
      "metadata": {
        "colab": {
          "base_uri": "https://localhost:8080/",
          "height": 1000
        },
        "id": "kH1P3DE7T-Pb",
        "outputId": "5f8776fa-b980-48d4-95fa-3ed7972f6d37"
      },
      "execution_count": 52,
      "outputs": [
        {
          "output_type": "stream",
          "name": "stdout",
          "text": [
            "\n",
            "    1. 관리자\n",
            "    2. 고객\n",
            "    3. 종료\n",
            "    1\n",
            "\n",
            "    1. 메뉴 추가\n",
            "    2. 매출액 보기\n",
            "    3. 처음으로\n",
            "    1\n",
            "메뉴명 : 아메리카노\n",
            "가격 : 1500\n",
            "수량 : 50\n",
            "메뉴가 추가되었습니다.\n",
            "\n",
            "    1. 메뉴 추가\n",
            "    2. 매출액 보기\n",
            "    3. 처음으로\n",
            "    1\n",
            "메뉴명 : 콜드브루\n",
            "가격 : 2000\n",
            "수량 : 50\n",
            "메뉴가 추가되었습니다.\n",
            "\n",
            "    1. 메뉴 추가\n",
            "    2. 매출액 보기\n",
            "    3. 처음으로\n",
            "    1\n",
            "메뉴명 : 라뗴\n",
            "가격 : 3000\n",
            "수량 : 30\n",
            "메뉴가 추가되었습니다.\n",
            "\n",
            "    1. 메뉴 추가\n",
            "    2. 매출액 보기\n",
            "    3. 처음으로\n",
            "    1\n",
            "메뉴명 : 캬라멜 마끼아또\n",
            "가격 : 5000\n",
            "수량 : 20\n",
            "메뉴가 추가되었습니다.\n",
            "\n",
            "    1. 메뉴 추가\n",
            "    2. 매출액 보기\n",
            "    3. 처음으로\n",
            "    1\n",
            "메뉴명 : 녹차\n",
            "가격 : 4500\n",
            "수량 : 30\n",
            "메뉴가 추가되었습니다.\n",
            "\n",
            "    1. 메뉴 추가\n",
            "    2. 매출액 보기\n",
            "    3. 처음으로\n",
            "    3\n",
            "\n",
            "    1. 관리자\n",
            "    2. 고객\n",
            "    3. 종료\n",
            "    2\n",
            "\n",
            "    1. 메뉴 보기\n",
            "    2. 메뉴 주문\n",
            "    3. 처음으로\n",
            "    1\n",
            "아메리카노 : 1500원\n",
            "콜드브루 : 2000원\n",
            "라뗴 : 3000원\n",
            "캬라멜 마끼아또 : 5000원\n",
            "녹차 : 4500원\n",
            "\n",
            "    1. 메뉴 보기\n",
            "    2. 메뉴 주문\n",
            "    3. 처음으로\n",
            "    2\n",
            "1. 아메리카노\n",
            "2. 콜드브루\n",
            "3. 라뗴\n",
            "4. 캬라멜 마끼아또\n",
            "5. 녹차\n",
            "메뉴 선택3\n",
            "금액을 지불해주세요. 라뗴 가격은 3000원 입니다.3000\n",
            "거스름돈은 없습니다.\n",
            "\n",
            "    1. 메뉴 보기\n",
            "    2. 메뉴 주문\n",
            "    3. 처음으로\n",
            "    2\n",
            "1. 아메리카노\n",
            "2. 콜드브루\n",
            "3. 라뗴\n",
            "4. 캬라멜 마끼아또\n",
            "5. 녹차\n",
            "메뉴 선택1\n",
            "금액을 지불해주세요. 아메리카노 가격은 1500원 입니다.2000\n",
            "거스름돈은 500원 입니다.\n",
            "\n",
            "    1. 메뉴 보기\n",
            "    2. 메뉴 주문\n",
            "    3. 처음으로\n",
            "    2\n",
            "1. 아메리카노\n",
            "2. 콜드브루\n",
            "3. 라뗴\n",
            "4. 캬라멜 마끼아또\n",
            "5. 녹차\n",
            "메뉴 선택5\n",
            "금액을 지불해주세요. 녹차 가격은 4500원 입니다.5000\n",
            "거스름돈은 500원 입니다.\n",
            "\n",
            "    1. 메뉴 보기\n",
            "    2. 메뉴 주문\n",
            "    3. 처음으로\n",
            "    2\n",
            "1. 아메리카노\n",
            "2. 콜드브루\n",
            "3. 라뗴\n",
            "4. 캬라멜 마끼아또\n",
            "5. 녹차\n",
            "메뉴 선택4\n",
            "금액을 지불해주세요. 캬라멜 마끼아또 가격은 5000원 입니다.50000\n",
            "거스름돈은 45000원 입니다.\n",
            "\n",
            "    1. 메뉴 보기\n",
            "    2. 메뉴 주문\n",
            "    3. 처음으로\n",
            "    2\n",
            "1. 아메리카노\n",
            "2. 콜드브루\n",
            "3. 라뗴\n",
            "4. 캬라멜 마끼아또\n",
            "5. 녹차\n",
            "메뉴 선택2\n",
            "금액을 지불해주세요. 콜드브루 가격은 2000원 입니다.5000\n",
            "거스름돈은 3000원 입니다.\n",
            "\n",
            "    1. 메뉴 보기\n",
            "    2. 메뉴 주문\n",
            "    3. 처음으로\n",
            "    3\n",
            "\n",
            "    1. 관리자\n",
            "    2. 고객\n",
            "    3. 종료\n",
            "    1\n",
            "\n",
            "    1. 메뉴 추가\n",
            "    2. 매출액 보기\n",
            "    3. 처음으로\n",
            "    2\n",
            "매출 결과\n",
            "아메리카노 : 1잔\n",
            "콜드브루 : 1잔\n",
            "라뗴 : 1잔\n",
            "캬라멜 마끼아또 : 1잔\n",
            "녹차 : 1잔\n",
            "매출액 : 16000원\n"
          ]
        },
        {
          "output_type": "error",
          "ename": "KeyboardInterrupt",
          "evalue": "Interrupted by user",
          "traceback": [
            "\u001b[0;31m---------------------------------------------------------------------------\u001b[0m",
            "\u001b[0;31mKeyboardInterrupt\u001b[0m                         Traceback (most recent call last)",
            "\u001b[0;32m<ipython-input-52-49fa8205c4f6>\u001b[0m in \u001b[0;36m<cell line: 115>\u001b[0;34m()\u001b[0m\n\u001b[1;32m    113\u001b[0m             \u001b[0mauth\u001b[0m \u001b[0;34m=\u001b[0m \u001b[0mprint_auth\u001b[0m\u001b[0;34m(\u001b[0m\u001b[0;34m)\u001b[0m\u001b[0;34m\u001b[0m\u001b[0;34m\u001b[0m\u001b[0m\n\u001b[1;32m    114\u001b[0m \u001b[0;34m\u001b[0m\u001b[0m\n\u001b[0;32m--> 115\u001b[0;31m \u001b[0mmain\u001b[0m\u001b[0;34m(\u001b[0m\u001b[0;34m)\u001b[0m\u001b[0;34m\u001b[0m\u001b[0;34m\u001b[0m\u001b[0m\n\u001b[0m",
            "\u001b[0;32m<ipython-input-52-49fa8205c4f6>\u001b[0m in \u001b[0;36mmain\u001b[0;34m()\u001b[0m\n\u001b[1;32m     68\u001b[0m     \u001b[0;32mwhile\u001b[0m \u001b[0;32mTrue\u001b[0m\u001b[0;34m:\u001b[0m\u001b[0;34m\u001b[0m\u001b[0;34m\u001b[0m\u001b[0m\n\u001b[1;32m     69\u001b[0m         \u001b[0;32mif\u001b[0m \u001b[0mauth\u001b[0m \u001b[0;34m==\u001b[0m \u001b[0;34m'1'\u001b[0m\u001b[0;34m:\u001b[0m\u001b[0;34m\u001b[0m\u001b[0;34m\u001b[0m\u001b[0m\n\u001b[0;32m---> 70\u001b[0;31m             \u001b[0madmin_menu\u001b[0m \u001b[0;34m=\u001b[0m \u001b[0mprint_admin_menu\u001b[0m\u001b[0;34m(\u001b[0m\u001b[0;34m)\u001b[0m\u001b[0;34m\u001b[0m\u001b[0;34m\u001b[0m\u001b[0m\n\u001b[0m\u001b[1;32m     71\u001b[0m             \u001b[0;32mif\u001b[0m \u001b[0madmin_menu\u001b[0m \u001b[0;34m==\u001b[0m \u001b[0;34m'1'\u001b[0m\u001b[0;34m:\u001b[0m\u001b[0;34m\u001b[0m\u001b[0;34m\u001b[0m\u001b[0m\n\u001b[1;32m     72\u001b[0m                 \u001b[0mprint_admin_menu_plus\u001b[0m\u001b[0;34m(\u001b[0m\u001b[0;34m)\u001b[0m\u001b[0;34m\u001b[0m\u001b[0;34m\u001b[0m\u001b[0m\n",
            "\u001b[0;32m<ipython-input-52-49fa8205c4f6>\u001b[0m in \u001b[0;36mprint_admin_menu\u001b[0;34m()\u001b[0m\n\u001b[1;32m     19\u001b[0m \u001b[0;34m\u001b[0m\u001b[0m\n\u001b[1;32m     20\u001b[0m \u001b[0;32mdef\u001b[0m \u001b[0mprint_admin_menu\u001b[0m\u001b[0;34m(\u001b[0m\u001b[0;34m)\u001b[0m\u001b[0;34m:\u001b[0m\u001b[0;34m\u001b[0m\u001b[0;34m\u001b[0m\u001b[0m\n\u001b[0;32m---> 21\u001b[0;31m     admin_menu = input(\"\"\"\n\u001b[0m\u001b[1;32m     22\u001b[0m     \u001b[0;36m1.\u001b[0m \u001b[0m메뉴\u001b[0m \u001b[0m추가\u001b[0m\u001b[0;34m\u001b[0m\u001b[0;34m\u001b[0m\u001b[0m\n\u001b[1;32m     23\u001b[0m     \u001b[0;36m2.\u001b[0m \u001b[0m매출액\u001b[0m \u001b[0m보기\u001b[0m\u001b[0;34m\u001b[0m\u001b[0;34m\u001b[0m\u001b[0m\n",
            "\u001b[0;32m/usr/local/lib/python3.10/dist-packages/ipykernel/kernelbase.py\u001b[0m in \u001b[0;36mraw_input\u001b[0;34m(self, prompt)\u001b[0m\n\u001b[1;32m    849\u001b[0m                 \u001b[0;34m\"raw_input was called, but this frontend does not support input requests.\"\u001b[0m\u001b[0;34m\u001b[0m\u001b[0;34m\u001b[0m\u001b[0m\n\u001b[1;32m    850\u001b[0m             )\n\u001b[0;32m--> 851\u001b[0;31m         return self._input_request(str(prompt),\n\u001b[0m\u001b[1;32m    852\u001b[0m             \u001b[0mself\u001b[0m\u001b[0;34m.\u001b[0m\u001b[0m_parent_ident\u001b[0m\u001b[0;34m,\u001b[0m\u001b[0;34m\u001b[0m\u001b[0;34m\u001b[0m\u001b[0m\n\u001b[1;32m    853\u001b[0m             \u001b[0mself\u001b[0m\u001b[0;34m.\u001b[0m\u001b[0m_parent_header\u001b[0m\u001b[0;34m,\u001b[0m\u001b[0;34m\u001b[0m\u001b[0;34m\u001b[0m\u001b[0m\n",
            "\u001b[0;32m/usr/local/lib/python3.10/dist-packages/ipykernel/kernelbase.py\u001b[0m in \u001b[0;36m_input_request\u001b[0;34m(self, prompt, ident, parent, password)\u001b[0m\n\u001b[1;32m    893\u001b[0m             \u001b[0;32mexcept\u001b[0m \u001b[0mKeyboardInterrupt\u001b[0m\u001b[0;34m:\u001b[0m\u001b[0;34m\u001b[0m\u001b[0;34m\u001b[0m\u001b[0m\n\u001b[1;32m    894\u001b[0m                 \u001b[0;31m# re-raise KeyboardInterrupt, to truncate traceback\u001b[0m\u001b[0;34m\u001b[0m\u001b[0;34m\u001b[0m\u001b[0m\n\u001b[0;32m--> 895\u001b[0;31m                 \u001b[0;32mraise\u001b[0m \u001b[0mKeyboardInterrupt\u001b[0m\u001b[0;34m(\u001b[0m\u001b[0;34m\"Interrupted by user\"\u001b[0m\u001b[0;34m)\u001b[0m \u001b[0;32mfrom\u001b[0m \u001b[0;32mNone\u001b[0m\u001b[0;34m\u001b[0m\u001b[0;34m\u001b[0m\u001b[0m\n\u001b[0m\u001b[1;32m    896\u001b[0m             \u001b[0;32mexcept\u001b[0m \u001b[0mException\u001b[0m \u001b[0;32mas\u001b[0m \u001b[0me\u001b[0m\u001b[0;34m:\u001b[0m\u001b[0;34m\u001b[0m\u001b[0;34m\u001b[0m\u001b[0m\n\u001b[1;32m    897\u001b[0m                 \u001b[0mself\u001b[0m\u001b[0;34m.\u001b[0m\u001b[0mlog\u001b[0m\u001b[0;34m.\u001b[0m\u001b[0mwarning\u001b[0m\u001b[0;34m(\u001b[0m\u001b[0;34m\"Invalid Message:\"\u001b[0m\u001b[0;34m,\u001b[0m \u001b[0mexc_info\u001b[0m\u001b[0;34m=\u001b[0m\u001b[0;32mTrue\u001b[0m\u001b[0;34m)\u001b[0m\u001b[0;34m\u001b[0m\u001b[0;34m\u001b[0m\u001b[0m\n",
            "\u001b[0;31mKeyboardInterrupt\u001b[0m: Interrupted by user"
          ]
        }
      ]
    },
    {
      "cell_type": "code",
      "source": [
        "# 파일 쓰기\n",
        "# 예시\n",
        "f = open(\"241223_Test.txt\", 'w')\n",
        "for i in range(1, 11):\n",
        "    data = \"%d번째 줄입니다.\\n\" % i\n",
        "    f.write(data)\n",
        "f.close()"
      ],
      "metadata": {
        "id": "TaQwX5EefCao"
      },
      "execution_count": 79,
      "outputs": []
    },
    {
      "cell_type": "code",
      "source": [
        "# 파일 읽기\n",
        "# 예시 1\n",
        "f = open(\"241223_Test.txt\", 'r')\n",
        "while True:\n",
        "    line = f.readline()\n",
        "    if not line: break\n",
        "    print(line)\n",
        "f.close()\n"
      ],
      "metadata": {
        "colab": {
          "base_uri": "https://localhost:8080/"
        },
        "id": "FQaAzqY9lVss",
        "outputId": "fdd8e6b5-475b-43b6-b405-9e747461ef28"
      },
      "execution_count": 81,
      "outputs": [
        {
          "output_type": "stream",
          "name": "stdout",
          "text": [
            "1번째 줄입니다.\n",
            "\n",
            "2번째 줄입니다.\n",
            "\n",
            "3번째 줄입니다.\n",
            "\n",
            "4번째 줄입니다.\n",
            "\n",
            "5번째 줄입니다.\n",
            "\n",
            "6번째 줄입니다.\n",
            "\n",
            "7번째 줄입니다.\n",
            "\n",
            "8번째 줄입니다.\n",
            "\n",
            "9번째 줄입니다.\n",
            "\n",
            "10번째 줄입니다.\n",
            "\n"
          ]
        }
      ]
    },
    {
      "cell_type": "code",
      "source": [
        "# 예시 2\n",
        "f = open(\"241223_Test.txt\", 'r')\n",
        "lines = f.readlines()\n",
        "for line in lines:\n",
        "    print(line)\n",
        "f.close()"
      ],
      "metadata": {
        "colab": {
          "base_uri": "https://localhost:8080/"
        },
        "id": "23iyt1qKlrQu",
        "outputId": "5e66839c-c225-43a3-c8ea-ff894e0c4560"
      },
      "execution_count": 82,
      "outputs": [
        {
          "output_type": "stream",
          "name": "stdout",
          "text": [
            "1번째 줄입니다.\n",
            "\n",
            "2번째 줄입니다.\n",
            "\n",
            "3번째 줄입니다.\n",
            "\n",
            "4번째 줄입니다.\n",
            "\n",
            "5번째 줄입니다.\n",
            "\n",
            "6번째 줄입니다.\n",
            "\n",
            "7번째 줄입니다.\n",
            "\n",
            "8번째 줄입니다.\n",
            "\n",
            "9번째 줄입니다.\n",
            "\n",
            "10번째 줄입니다.\n",
            "\n"
          ]
        }
      ]
    },
    {
      "cell_type": "code",
      "source": [
        "# 예시 3\n",
        "f = open(\"241223_Test.txt\", 'r')\n",
        "data = f.read()\n",
        "print(data)\n",
        "f.close()"
      ],
      "metadata": {
        "colab": {
          "base_uri": "https://localhost:8080/"
        },
        "id": "xFqgaZ36mXQb",
        "outputId": "5621afae-4cef-481e-a6c8-815000565a4a"
      },
      "execution_count": 83,
      "outputs": [
        {
          "output_type": "stream",
          "name": "stdout",
          "text": [
            "1번째 줄입니다.\n",
            "2번째 줄입니다.\n",
            "3번째 줄입니다.\n",
            "4번째 줄입니다.\n",
            "5번째 줄입니다.\n",
            "6번째 줄입니다.\n",
            "7번째 줄입니다.\n",
            "8번째 줄입니다.\n",
            "9번째 줄입니다.\n",
            "10번째 줄입니다.\n",
            "\n"
          ]
        }
      ]
    },
    {
      "cell_type": "code",
      "source": [
        "# 예시 4\n",
        "f = open(\"241223_Test.txt\", 'r')\n",
        "for line in f:\n",
        "    print(line)\n",
        "f.close()"
      ],
      "metadata": {
        "colab": {
          "base_uri": "https://localhost:8080/"
        },
        "id": "VQyBVtKhmfqX",
        "outputId": "71f45849-587b-4415-c9cc-68aa565ff846"
      },
      "execution_count": 84,
      "outputs": [
        {
          "output_type": "stream",
          "name": "stdout",
          "text": [
            "1번째 줄입니다.\n",
            "\n",
            "2번째 줄입니다.\n",
            "\n",
            "3번째 줄입니다.\n",
            "\n",
            "4번째 줄입니다.\n",
            "\n",
            "5번째 줄입니다.\n",
            "\n",
            "6번째 줄입니다.\n",
            "\n",
            "7번째 줄입니다.\n",
            "\n",
            "8번째 줄입니다.\n",
            "\n",
            "9번째 줄입니다.\n",
            "\n",
            "10번째 줄입니다.\n",
            "\n"
          ]
        }
      ]
    },
    {
      "cell_type": "code",
      "source": [
        "# 파일에 새로운 내용 추가하기\n",
        "f = open(\"241223_Test.txt\", 'a')\n",
        "for i in range(11, 20):\n",
        "    data = \"%d번째 줄입니다.\\n\" % i\n",
        "    f.write(data)\n",
        "f.close()"
      ],
      "metadata": {
        "id": "be1TmJsnmlht"
      },
      "execution_count": 87,
      "outputs": []
    }
  ]
}