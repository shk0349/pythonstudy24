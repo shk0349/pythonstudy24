{
  "nbformat": 4,
  "nbformat_minor": 0,
  "metadata": {
    "colab": {
      "provenance": [],
      "authorship_tag": "ABX9TyNMaqgL8s+In1TJWViRM4Oh",
      "include_colab_link": true
    },
    "kernelspec": {
      "name": "python3",
      "display_name": "Python 3"
    },
    "language_info": {
      "name": "python"
    }
  },
  "cells": [
    {
      "cell_type": "markdown",
      "metadata": {
        "id": "view-in-github",
        "colab_type": "text"
      },
      "source": [
        "<a href=\"https://colab.research.google.com/github/shk0349/pythonstudy24/blob/master/BaseType.ipynb\" target=\"_parent\"><img src=\"https://colab.research.google.com/assets/colab-badge.svg\" alt=\"Open In Colab\"/></a>"
      ]
    },
    {
      "cell_type": "code",
      "execution_count": null,
      "metadata": {
        "id": "R00qJwnbTODk"
      },
      "outputs": [],
      "source": []
    },
    {
      "cell_type": "markdown",
      "source": [
        "Python Programming 기초, 자료형\n",
        "\n",
        "1. 숫자형\n",
        "2. 문자열\n",
        "3. 리스트\n",
        "4. 튜플\n",
        "5. 딕셔너리\n",
        "6. 집합\n",
        "7. 불"
      ],
      "metadata": {
        "id": "haAwLsLgVCen"
      }
    },
    {
      "cell_type": "code",
      "source": [
        "# 숫자형, 정수형, 실수형, 진수형이 있다.\n",
        "\n",
        "# 정수형(Integer) : 양의 정수와 음의 정수, 숫자 0을 변수에 대입\n",
        "# 예시\n",
        "a = 123    # 양의 정수\n",
        "b = -123    # 음의 정수\n",
        "c = 0    # 숫자 0\n",
        "\n",
        "# 실수형(Floating-Point) : 소수점이 포함된 숫자\n",
        "# 예시\n",
        "d = 1.2\n",
        "e = -3.45\n",
        "\n",
        "# 지수 표현방법 : 많은 수치를 짧게 표현\n",
        "# 예시\n",
        "f = 4.24E10    # 4.24 * 10^10\n",
        "g = 4.24e-10    # 4.24 * 10^-10\n",
        "\n",
        "# 진수 표현방법\n",
        "# 8진수 (Octal) -> 숫자 0에 알파벳 o(대소문자 둘다 가능)\n",
        "# 예시\n",
        "h = 0o177    # 177 8진수\n",
        "\n",
        "# 16진수 (Hexadecimal) -> 숫자 0에 알파벳x\n",
        "# 예시\n",
        "i = 0x8ff    # 8ff 16진수 // 10부터는 a로 시작함\n"
      ],
      "metadata": {
        "id": "p58OKBW5VuZU"
      },
      "execution_count": 11,
      "outputs": []
    },
    {
      "cell_type": "markdown",
      "source": [
        "숫자형을 활용하기 위한 연산자\n",
        "\n",
        "1. 사칙연산 : +, -, *, /\n",
        "2. 우선순위 : 괄호 -> *, / -> 앞쪽\n"
      ],
      "metadata": {
        "id": "BdcDaMW2dJGm"
      }
    },
    {
      "cell_type": "code",
      "source": [
        "a = 3\n",
        "b = 4\n",
        "a + b"
      ],
      "metadata": {
        "colab": {
          "base_uri": "https://localhost:8080/"
        },
        "id": "9i2cDQAbd2kZ",
        "outputId": "151a2c5f-a893-400e-d706-de3984d607ea"
      },
      "execution_count": 5,
      "outputs": [
        {
          "output_type": "execute_result",
          "data": {
            "text/plain": [
              "7"
            ]
          },
          "metadata": {},
          "execution_count": 5
        }
      ]
    },
    {
      "cell_type": "code",
      "source": [
        "a - b"
      ],
      "metadata": {
        "colab": {
          "base_uri": "https://localhost:8080/"
        },
        "id": "aCJcILNyeATZ",
        "outputId": "65df2b8e-c3fd-4b68-f5b2-b459bbf801c3"
      },
      "execution_count": 6,
      "outputs": [
        {
          "output_type": "execute_result",
          "data": {
            "text/plain": [
              "-1"
            ]
          },
          "metadata": {},
          "execution_count": 6
        }
      ]
    },
    {
      "cell_type": "code",
      "source": [
        "a * b"
      ],
      "metadata": {
        "colab": {
          "base_uri": "https://localhost:8080/"
        },
        "id": "jfnZS6eUeSQb",
        "outputId": "6b27212f-560a-4105-c552-f6dda985d394"
      },
      "execution_count": 7,
      "outputs": [
        {
          "output_type": "execute_result",
          "data": {
            "text/plain": [
              "12"
            ]
          },
          "metadata": {},
          "execution_count": 7
        }
      ]
    },
    {
      "cell_type": "code",
      "source": [
        "a / b"
      ],
      "metadata": {
        "colab": {
          "base_uri": "https://localhost:8080/"
        },
        "id": "6ApMp0V-eUw_",
        "outputId": "ee72ab0a-fc54-4c79-fa42-8b31a60a63b8"
      },
      "execution_count": 8,
      "outputs": [
        {
          "output_type": "execute_result",
          "data": {
            "text/plain": [
              "0.75"
            ]
          },
          "metadata": {},
          "execution_count": 8
        }
      ]
    },
    {
      "cell_type": "code",
      "source": [
        "# 제곱 처리하는 방법 (**)\n",
        "# 예시\n",
        "a ** b    # a의 b 제곱 a^b"
      ],
      "metadata": {
        "colab": {
          "base_uri": "https://localhost:8080/"
        },
        "id": "NMCRFoFJeaiD",
        "outputId": "84e45a83-cd21-4369-83f0-a4eb5a4e1f80"
      },
      "execution_count": 9,
      "outputs": [
        {
          "output_type": "execute_result",
          "data": {
            "text/plain": [
              "81"
            ]
          },
          "metadata": {},
          "execution_count": 9
        }
      ]
    },
    {
      "cell_type": "code",
      "source": [
        "# 나머지 처리하는 방법 (%)\n",
        "# 예시\n",
        "7 % 3"
      ],
      "metadata": {
        "colab": {
          "base_uri": "https://localhost:8080/"
        },
        "id": "1O4q1zyLeoF7",
        "outputId": "68ae745f-e9dd-45e0-88a0-3b891ff27c04"
      },
      "execution_count": 10,
      "outputs": [
        {
          "output_type": "execute_result",
          "data": {
            "text/plain": [
              "1"
            ]
          },
          "metadata": {},
          "execution_count": 10
        }
      ]
    },
    {
      "cell_type": "code",
      "source": [
        "# 나눗셈 후 몫을 리턴하는 방법 (//)\n",
        "# 예시\n",
        "7 // 4"
      ],
      "metadata": {
        "colab": {
          "base_uri": "https://localhost:8080/"
        },
        "id": "aT3b1QW9f4_Z",
        "outputId": "13c2e253-8f02-4ed2-df55-a36ae93ec5c9"
      },
      "execution_count": 13,
      "outputs": [
        {
          "output_type": "execute_result",
          "data": {
            "text/plain": [
              "1"
            ]
          },
          "metadata": {},
          "execution_count": 13
        }
      ]
    },
    {
      "cell_type": "code",
      "source": [
        "# 복합 연산자 +=, -=, *=, /=, //=, %=, **=\n",
        "# 예시\n",
        "a = 1\n",
        "a = a + 1\n",
        "print(a)\n",
        "\n",
        "a += 1    # a = a + 1\n",
        "print(a)"
      ],
      "metadata": {
        "colab": {
          "base_uri": "https://localhost:8080/"
        },
        "id": "xhEmEYZjgWbh",
        "outputId": "d219c394-d10b-4d7a-e2ee-34a155cd0c7f"
      },
      "execution_count": 14,
      "outputs": [
        {
          "output_type": "stream",
          "name": "stdout",
          "text": [
            "2\n",
            "3\n"
          ]
        }
      ]
    },
    {
      "cell_type": "code",
      "source": [
        "# 문자열 자료형 (String) : 연속된 문자들의 나열 \"\" 큰따옴표\n",
        "# 예시\n",
        "\n",
        "# 큰따옴표\n",
        "\"Hello World\"\n",
        "\n",
        "# 작은따옴표\n",
        "'Hello World'\n",
        "\n",
        "# 큰따옴표 3개를 연속으로 써서 양쪽 둘러싸기\n",
        "\"\"\"Hello World\"\"\"\n",
        "\n",
        "# 작은따옴표 3개를 연속으로 써서 양쪽 둘러싸기\n",
        "'''Hello World'''\n",
        "\n",
        "food = \"Python's favorite food is perl\"\n",
        "food"
      ],
      "metadata": {
        "colab": {
          "base_uri": "https://localhost:8080/",
          "height": 35
        },
        "id": "N8w9dKgDhHIj",
        "outputId": "7394e3ac-fc31-40e1-899a-fd8dd3c68844"
      },
      "execution_count": 17,
      "outputs": [
        {
          "output_type": "execute_result",
          "data": {
            "text/plain": [
              "\"Python's favorite food is perl\""
            ],
            "application/vnd.google.colaboratory.intrinsic+json": {
              "type": "string"
            }
          },
          "metadata": {},
          "execution_count": 17
        }
      ]
    },
    {
      "cell_type": "code",
      "source": [
        "# 문자열 출력 시 큰따옴표를 보여주고 싶을 경우\n",
        "# 예시\n",
        "say = '\"Python is very easy.\" he says.'\n",
        "say"
      ],
      "metadata": {
        "colab": {
          "base_uri": "https://localhost:8080/",
          "height": 35
        },
        "id": "k2pwEmK-jCW-",
        "outputId": "3608beee-4de0-4262-a071-aaecfa83c9b5"
      },
      "execution_count": 19,
      "outputs": [
        {
          "output_type": "execute_result",
          "data": {
            "text/plain": [
              "'\"Python is very easy.\" he says.'"
            ],
            "application/vnd.google.colaboratory.intrinsic+json": {
              "type": "string"
            }
          },
          "metadata": {},
          "execution_count": 19
        }
      ]
    },
    {
      "cell_type": "code",
      "source": [
        "# escape 문자 활용하기 \\n  \\t  \\r  \\\\ 등\n",
        "# 예시\n",
        "food = 'Python\\'s favorite food is perl'\n",
        "say = \"\\\"Python is very easy.\\\" he says.\"\n",
        "print(food)\n",
        "print(say)"
      ],
      "metadata": {
        "colab": {
          "base_uri": "https://localhost:8080/"
        },
        "id": "aXEzY_Ijje8u",
        "outputId": "255cf300-971e-4cee-81be-53a9d92653cd"
      },
      "execution_count": 20,
      "outputs": [
        {
          "output_type": "stream",
          "name": "stdout",
          "text": [
            "Python's favorite food is perl\n",
            "\"Python is very easy.\" he says.\n"
          ]
        }
      ]
    },
    {
      "cell_type": "code",
      "source": [
        "# 여러줄로 출력 \\n 엔터 효과\n",
        "# 예시\n",
        "multiline = \"Life is too short\\nYou need python\"\n",
        "print(multiline)"
      ],
      "metadata": {
        "colab": {
          "base_uri": "https://localhost:8080/"
        },
        "id": "vLcWkIsKnF8d",
        "outputId": "157ef501-7a29-422e-cbdb-868773f864ed"
      },
      "execution_count": 21,
      "outputs": [
        {
          "output_type": "stream",
          "name": "stdout",
          "text": [
            "Life is too short\n",
            "You need python\n"
          ]
        }
      ]
    },
    {
      "cell_type": "code",
      "source": [
        "# 여러줄로 출력이 가능한 \"\"\"\n",
        "# 예시\n",
        "multiline = \"\"\"\n",
        "Life is too short\n",
        "You need python\n",
        "\"\"\"\n",
        "print(multiline)"
      ],
      "metadata": {
        "colab": {
          "base_uri": "https://localhost:8080/"
        },
        "id": "FKfDOgzQnnVf",
        "outputId": "141ba2eb-aee1-4e43-bebd-6049fda7090d"
      },
      "execution_count": 22,
      "outputs": [
        {
          "output_type": "stream",
          "name": "stdout",
          "text": [
            "\n",
            "Life is too short\n",
            "You need python\n",
            "\n"
          ]
        }
      ]
    },
    {
      "cell_type": "markdown",
      "source": [
        "# escape 코드 종류\n",
        "\n",
        "* \\n : 줄 변경\n",
        "* \\t : Tab\n",
        "* \\\\ : \\ 출력\n",
        "* \\' : ' 출력\n",
        "* \\\" : \" 출력\n",
        "* \\r : 캐리지 리턴(과거의 타자기 효과 : 커서를 현재 줄 맨 앞으로 보내라)\n",
        "* \\f : 폼피드(줄 바꿈 문자, 커서를 현재줄의 다음 줄로 이동)\n",
        "* \\a : 벨소리(출력 시 삑 소리가 남)\n",
        "* \\b : 백스페이스\n",
        "* \\000 : Null 문자"
      ],
      "metadata": {
        "id": "53990StBpS6l"
      }
    },
    {
      "cell_type": "code",
      "source": [
        "# 문자열 연산자 (문자열을 더하거나 곱할 수 있음)\n",
        "# 문자열 덧셈 예시\n",
        "head = \"Python\"\n",
        "tail = \" is fun!\"\n",
        "head + tail"
      ],
      "metadata": {
        "colab": {
          "base_uri": "https://localhost:8080/",
          "height": 35
        },
        "id": "xupzzzz4rGM1",
        "outputId": "c7bc34b7-dcf3-4277-c39d-771aa8d56616"
      },
      "execution_count": 23,
      "outputs": [
        {
          "output_type": "execute_result",
          "data": {
            "text/plain": [
              "'Python is fun!'"
            ],
            "application/vnd.google.colaboratory.intrinsic+json": {
              "type": "string"
            }
          },
          "metadata": {},
          "execution_count": 23
        }
      ]
    },
    {
      "cell_type": "code",
      "source": [
        "# 문자열 곱셈 예시\n",
        "body = \"Python \"\n",
        "body * 5"
      ],
      "metadata": {
        "colab": {
          "base_uri": "https://localhost:8080/",
          "height": 35
        },
        "id": "j9Yts6b3rcYY",
        "outputId": "5ef00629-f8e9-4904-f1f9-7e7c18a77908"
      },
      "execution_count": 25,
      "outputs": [
        {
          "output_type": "execute_result",
          "data": {
            "text/plain": [
              "'Python Python Python Python Python '"
            ],
            "application/vnd.google.colaboratory.intrinsic+json": {
              "type": "string"
            }
          },
          "metadata": {},
          "execution_count": 25
        }
      ]
    },
    {
      "cell_type": "code",
      "source": [
        "# 예시\n",
        "print(\"=\" * 25)\n",
        "print(\"Welcome To Python World\")\n",
        "print(\"=\" * 25)"
      ],
      "metadata": {
        "colab": {
          "base_uri": "https://localhost:8080/"
        },
        "id": "JTB5xo1yrwNc",
        "outputId": "d2b581cb-d151-43b5-fab2-4a8205ef5ce5"
      },
      "execution_count": 28,
      "outputs": [
        {
          "output_type": "stream",
          "name": "stdout",
          "text": [
            "=========================\n",
            "Welcome To Python World\n",
            "=========================\n"
          ]
        }
      ]
    },
    {
      "cell_type": "code",
      "source": [
        "# 문자열의 길이를 구하라\n",
        "# 예시\n",
        "a = \"Life is too short\"\n",
        "len(a)    # 문자열의 길이를 구하는 Method"
      ],
      "metadata": {
        "colab": {
          "base_uri": "https://localhost:8080/"
        },
        "id": "0VOX7X5wsJMI",
        "outputId": "1c991930-5aba-481c-caf2-1070312eeeb2"
      },
      "execution_count": 30,
      "outputs": [
        {
          "output_type": "execute_result",
          "data": {
            "text/plain": [
              "17"
            ]
          },
          "metadata": {},
          "execution_count": 30
        }
      ]
    },
    {
      "cell_type": "code",
      "source": [
        "# 문자열 인덱싱, 슬라이싱\n",
        "# 문자열은 문자를 배열로 만들어 놓은 것(0번 인덱스부터 적용됨)\n",
        "\n",
        "# 인덱싱 예시 1\n",
        "a = \"Life is too short. You need Python\"\n",
        "a[16]"
      ],
      "metadata": {
        "colab": {
          "base_uri": "https://localhost:8080/",
          "height": 35
        },
        "id": "daTfJGwutAx0",
        "outputId": "894312e9-f0ed-48d1-d4d4-b617b8da3704"
      },
      "execution_count": 36,
      "outputs": [
        {
          "output_type": "execute_result",
          "data": {
            "text/plain": [
              "'t'"
            ],
            "application/vnd.google.colaboratory.intrinsic+json": {
              "type": "string"
            }
          },
          "metadata": {},
          "execution_count": 36
        }
      ]
    },
    {
      "cell_type": "code",
      "source": [
        "# 인덱싱 예시 2\n",
        "a[-1]     # 문자열을 뒤에서부터 읽기 위해서 -를 붙힌다."
      ],
      "metadata": {
        "colab": {
          "base_uri": "https://localhost:8080/",
          "height": 35
        },
        "id": "uRZBDU6wtwkg",
        "outputId": "31d9587e-721b-430e-963a-19e9c68b442e"
      },
      "execution_count": 37,
      "outputs": [
        {
          "output_type": "execute_result",
          "data": {
            "text/plain": [
              "'n'"
            ],
            "application/vnd.google.colaboratory.intrinsic+json": {
              "type": "string"
            }
          },
          "metadata": {},
          "execution_count": 37
        }
      ]
    },
    {
      "cell_type": "code",
      "source": [
        "# 인덱싱 예시 3\n",
        "a[-34]"
      ],
      "metadata": {
        "colab": {
          "base_uri": "https://localhost:8080/",
          "height": 35
        },
        "id": "wew_wS5ouRIA",
        "outputId": "0efeb4eb-4b66-49ba-fa61-8000fcd2f7da"
      },
      "execution_count": 40,
      "outputs": [
        {
          "output_type": "execute_result",
          "data": {
            "text/plain": [
              "'f'"
            ],
            "application/vnd.google.colaboratory.intrinsic+json": {
              "type": "string"
            }
          },
          "metadata": {},
          "execution_count": 40
        }
      ]
    },
    {
      "cell_type": "code",
      "source": [
        "# 문자열 추출하기\n",
        "# 예시\n",
        "b = a[0]+a[1]+a[2]+a[3]\n",
        "b"
      ],
      "metadata": {
        "colab": {
          "base_uri": "https://localhost:8080/",
          "height": 35
        },
        "id": "XK0BTp_buc1q",
        "outputId": "174088a5-ebc4-4c18-89bb-e1ece9d4d883"
      },
      "execution_count": 53,
      "outputs": [
        {
          "output_type": "execute_result",
          "data": {
            "text/plain": [
              "'Life'"
            ],
            "application/vnd.google.colaboratory.intrinsic+json": {
              "type": "string"
            }
          },
          "metadata": {},
          "execution_count": 53
        }
      ]
    },
    {
      "cell_type": "code",
      "source": [
        "# 슬라이싱 기법 예시 1\n",
        "a[0:4]    # 문자열 a의 0번에서 4번 앞까지 슬라이싱"
      ],
      "metadata": {
        "colab": {
          "base_uri": "https://localhost:8080/",
          "height": 35
        },
        "id": "0VThYYEquwXe",
        "outputId": "70884ce5-d83c-48e0-e71f-39364f441fdc"
      },
      "execution_count": 52,
      "outputs": [
        {
          "output_type": "execute_result",
          "data": {
            "text/plain": [
              "'Life'"
            ],
            "application/vnd.google.colaboratory.intrinsic+json": {
              "type": "string"
            }
          },
          "metadata": {},
          "execution_count": 52
        }
      ]
    },
    {
      "cell_type": "code",
      "source": [
        "# 슬라이싱 기법 예시 2\n",
        "a[12:17]"
      ],
      "metadata": {
        "colab": {
          "base_uri": "https://localhost:8080/",
          "height": 35
        },
        "id": "2q-_QbnTvbfM",
        "outputId": "76a2011f-1dc3-4f12-e9c5-ebe5002d781e"
      },
      "execution_count": 51,
      "outputs": [
        {
          "output_type": "execute_result",
          "data": {
            "text/plain": [
              "'short'"
            ],
            "application/vnd.google.colaboratory.intrinsic+json": {
              "type": "string"
            }
          },
          "metadata": {},
          "execution_count": 51
        }
      ]
    },
    {
      "cell_type": "code",
      "source": [
        "# 슬라이싱 기법 예시 3\n",
        "a[19:]    # 문자열 a의 19번째부터 끝까지 슬라이싱"
      ],
      "metadata": {
        "colab": {
          "base_uri": "https://localhost:8080/",
          "height": 35
        },
        "id": "bYQMhnkRvgTa",
        "outputId": "3389d64e-2d01-45ac-f1e8-5a649c906e76"
      },
      "execution_count": 50,
      "outputs": [
        {
          "output_type": "execute_result",
          "data": {
            "text/plain": [
              "'You need Python'"
            ],
            "application/vnd.google.colaboratory.intrinsic+json": {
              "type": "string"
            }
          },
          "metadata": {},
          "execution_count": 50
        }
      ]
    },
    {
      "cell_type": "code",
      "source": [
        "# 슬라이싱 기법 예시 4\n",
        "a[:19]    # 문자열 a의 처음부터 19번째까지 슬라이싱"
      ],
      "metadata": {
        "id": "3dXBeOFgvuUi"
      },
      "execution_count": null,
      "outputs": []
    },
    {
      "cell_type": "code",
      "source": [
        "# 슬라이싱 기법 예시 5\n",
        "a[:]    # 문자열 a의 처음부터 끝까지 슬라이싱"
      ],
      "metadata": {
        "colab": {
          "base_uri": "https://localhost:8080/",
          "height": 35
        },
        "id": "K0WaxuLKvzuU",
        "outputId": "25268e43-6084-4956-bf67-ba465cd8a11c"
      },
      "execution_count": 49,
      "outputs": [
        {
          "output_type": "execute_result",
          "data": {
            "text/plain": [
              "'Life is too short. You need Python'"
            ],
            "application/vnd.google.colaboratory.intrinsic+json": {
              "type": "string"
            }
          },
          "metadata": {},
          "execution_count": 49
        }
      ]
    },
    {
      "cell_type": "code",
      "source": [
        "# 슬라이싱 활용 예제 1\n",
        "a = \"20010331Rainy\"\n",
        "date = a[:8]\n",
        "weather = a[8:]\n",
        "print(date)\n",
        "print(weather)"
      ],
      "metadata": {
        "colab": {
          "base_uri": "https://localhost:8080/"
        },
        "id": "4gvoVWnKv9zO",
        "outputId": "4427e23d-1c93-4eee-e971-9fa5758ac758"
      },
      "execution_count": 54,
      "outputs": [
        {
          "output_type": "stream",
          "name": "stdout",
          "text": [
            "20010331\n",
            "Rainy\n"
          ]
        }
      ]
    },
    {
      "cell_type": "code",
      "source": [
        "# 슬라이싱 활용 예제 2\n",
        "a = \"20010331Rainy\"\n",
        "year = a[:4]\n",
        "month = a[4:6]\n",
        "day = a[6:8]\n",
        "print(year+'년 ' + month + '월 ' + day + '일 날씨는 ' + weather + '입니다.')"
      ],
      "metadata": {
        "colab": {
          "base_uri": "https://localhost:8080/"
        },
        "id": "vVcbuvhOw8zz",
        "outputId": "4167a21d-9b5f-489d-9abd-fff268e76d9c"
      },
      "execution_count": 56,
      "outputs": [
        {
          "output_type": "stream",
          "name": "stdout",
          "text": [
            "2001년 03월 31일 날씨는 Rainy입니다.\n"
          ]
        }
      ]
    },
    {
      "cell_type": "code",
      "source": [
        "# pithon이라는 문자열을 생성 했을 경우 해당 문자열을 python으로 교체하라\n",
        "a = \"pithon\"\n",
        "a[1] = 'y'"
      ],
      "metadata": {
        "colab": {
          "base_uri": "https://localhost:8080/",
          "height": 184
        },
        "id": "TQ4KsZ-vxupA",
        "outputId": "253674c5-0cb9-4339-c876-62ec94d06c4e"
      },
      "execution_count": 60,
      "outputs": [
        {
          "output_type": "error",
          "ename": "TypeError",
          "evalue": "'str' object does not support item assignment",
          "traceback": [
            "\u001b[0;31m---------------------------------------------------------------------------\u001b[0m",
            "\u001b[0;31mTypeError\u001b[0m                                 Traceback (most recent call last)",
            "\u001b[0;32m<ipython-input-60-acc3c9c8871b>\u001b[0m in \u001b[0;36m<cell line: 3>\u001b[0;34m()\u001b[0m\n\u001b[1;32m      1\u001b[0m \u001b[0;31m# pithon이라는 문자열을 생성 했을 경우 해당 문자열을 python으로 교체하라\u001b[0m\u001b[0;34m\u001b[0m\u001b[0;34m\u001b[0m\u001b[0m\n\u001b[1;32m      2\u001b[0m \u001b[0ma\u001b[0m \u001b[0;34m=\u001b[0m \u001b[0;34m\"pithon\"\u001b[0m\u001b[0;34m\u001b[0m\u001b[0;34m\u001b[0m\u001b[0m\n\u001b[0;32m----> 3\u001b[0;31m \u001b[0ma\u001b[0m\u001b[0;34m[\u001b[0m\u001b[0;36m1\u001b[0m\u001b[0;34m]\u001b[0m \u001b[0;34m=\u001b[0m \u001b[0;34m'y'\u001b[0m\u001b[0;34m\u001b[0m\u001b[0;34m\u001b[0m\u001b[0m\n\u001b[0m",
            "\u001b[0;31mTypeError\u001b[0m: 'str' object does not support item assignment"
          ]
        }
      ]
    },
    {
      "cell_type": "code",
      "source": [
        "b = \"Pithon\"\n",
        "c = b[:1] + 'y' + b[2:]\n",
        "c    # str type은 수정불가하며, method를 활용하거나 위 예시처럼 문자열을 쪼개서 붙여야한다."
      ],
      "metadata": {
        "colab": {
          "base_uri": "https://localhost:8080/",
          "height": 35
        },
        "id": "BTufUEVc1JfA",
        "outputId": "31608eb8-53b2-4c5b-9068-a985929b6061"
      },
      "execution_count": 63,
      "outputs": [
        {
          "output_type": "execute_result",
          "data": {
            "text/plain": [
              "'Python'"
            ],
            "application/vnd.google.colaboratory.intrinsic+json": {
              "type": "string"
            }
          },
          "metadata": {},
          "execution_count": 63
        }
      ]
    },
    {
      "cell_type": "code",
      "source": [
        "# 문자열 포맷팅 -> Java에서 Printf와 같은 기능(동적 출력을 위한 기능으로 \"\" 안에 정수나 문자열 등을 추가할 때 활용)\n",
        "# 예시 1\n",
        "\"I eat %d apples.\" % 3    # %d는 포맷팅 코드라고 불리우며, 마지막에 있는 %는 동적 값을 삽입한다."
      ],
      "metadata": {
        "colab": {
          "base_uri": "https://localhost:8080/",
          "height": 35
        },
        "id": "I2_LY5lT1li8",
        "outputId": "02f472f1-0881-4acb-d95a-064d94cc486d"
      },
      "execution_count": 64,
      "outputs": [
        {
          "output_type": "execute_result",
          "data": {
            "text/plain": [
              "'I eat 3 apples.'"
            ],
            "application/vnd.google.colaboratory.intrinsic+json": {
              "type": "string"
            }
          },
          "metadata": {},
          "execution_count": 64
        }
      ]
    },
    {
      "cell_type": "code",
      "source": [
        "# 예시 2\n",
        "\"I eat %s apples.\" % \"five\"    # %s는 문자열이 동적으로 삽입되며, 마지막에 % 뒤에는 문자열을 넣어야하므로 \"\", '' 처리를 해야한다."
      ],
      "metadata": {
        "colab": {
          "base_uri": "https://localhost:8080/",
          "height": 35
        },
        "id": "HoGC3s9y2ule",
        "outputId": "1b563c13-1573-4a0d-f821-7aaa3b467ce2"
      },
      "execution_count": 65,
      "outputs": [
        {
          "output_type": "execute_result",
          "data": {
            "text/plain": [
              "'I eat five apples.'"
            ],
            "application/vnd.google.colaboratory.intrinsic+json": {
              "type": "string"
            }
          },
          "metadata": {},
          "execution_count": 65
        }
      ]
    },
    {
      "cell_type": "code",
      "source": [
        "# 예시 3\n",
        "number = 3\n",
        "\"I eat %d apples.\" % number   # number는 3이란 정수로 정의되어있기 때문에 %d 사용해야한다."
      ],
      "metadata": {
        "colab": {
          "base_uri": "https://localhost:8080/",
          "height": 35
        },
        "id": "SSF_r-fy3PIy",
        "outputId": "c158cd05-971e-4bc3-bab1-f4e90d1f2d87"
      },
      "execution_count": 66,
      "outputs": [
        {
          "output_type": "execute_result",
          "data": {
            "text/plain": [
              "'I eat 3 apples.'"
            ],
            "application/vnd.google.colaboratory.intrinsic+json": {
              "type": "string"
            }
          },
          "metadata": {},
          "execution_count": 66
        }
      ]
    },
    {
      "cell_type": "code",
      "source": [
        "# 예시 4\n",
        "number = 10\n",
        "day = \"three\"\n",
        "\"I ate %d apples. so I was sick for %s days.\" % (number, day)    # 동적 매개 값을 2개 이상 넣고 싶으면 괄호 안에 , 로 구분하여 넣어야하며, 순서와 타입은 맞춰야한다."
      ],
      "metadata": {
        "colab": {
          "base_uri": "https://localhost:8080/",
          "height": 35
        },
        "id": "jrIvEyJA3jlO",
        "outputId": "ac32032e-c7b9-4734-f184-af19da302aa2"
      },
      "execution_count": 67,
      "outputs": [
        {
          "output_type": "execute_result",
          "data": {
            "text/plain": [
              "'I ate 10 apples. so I was sick for three days.'"
            ],
            "application/vnd.google.colaboratory.intrinsic+json": {
              "type": "string"
            }
          },
          "metadata": {},
          "execution_count": 67
        }
      ]
    },
    {
      "cell_type": "markdown",
      "source": [
        "*   %s : 문자열(String)\n",
        "*   %d : 정수(Integer)\n",
        "*   %c : 문자(Character / 문자 1개)\n",
        "*   %f : 실수(부동소수점)\n",
        "*   %o : 8진수\n",
        "*   %x : 16진수"
      ],
      "metadata": {
        "id": "h4db8M8w4Tdh"
      }
    },
    {
      "cell_type": "code",
      "source": [
        "# Python의 장점 / %s는 정수나 실수를 자동으로 문자열로 타입을 변경한다.\n",
        "# 예시 1\n",
        "\"I have %s apples\" % 3"
      ],
      "metadata": {
        "colab": {
          "base_uri": "https://localhost:8080/",
          "height": 35
        },
        "id": "GEXCc4K148ik",
        "outputId": "64af5977-7b38-46f6-a639-e29b39953b7a"
      },
      "execution_count": 68,
      "outputs": [
        {
          "output_type": "execute_result",
          "data": {
            "text/plain": [
              "'I have 3 apples'"
            ],
            "application/vnd.google.colaboratory.intrinsic+json": {
              "type": "string"
            }
          },
          "metadata": {},
          "execution_count": 68
        }
      ]
    },
    {
      "cell_type": "code",
      "source": [
        "# 예시 2\n",
        "\"I have %s apples\" % 3.234"
      ],
      "metadata": {
        "colab": {
          "base_uri": "https://localhost:8080/",
          "height": 35
        },
        "id": "byNCJ-KC5NKs",
        "outputId": "950fe222-a6f2-4afe-e0b5-32455aa50f8e"
      },
      "execution_count": 69,
      "outputs": [
        {
          "output_type": "execute_result",
          "data": {
            "text/plain": [
              "'I have 3.234 apples'"
            ],
            "application/vnd.google.colaboratory.intrinsic+json": {
              "type": "string"
            }
          },
          "metadata": {},
          "execution_count": 69
        }
      ]
    },
    {
      "cell_type": "code",
      "source": [
        "# 문자열 안에 %를 넣고 싶을 경우 -> Error is 98%.\n",
        "\"Error is %d%%.\" % 98    # 확률을 출력할 때 %는 예약어로 %%로 해야 문자열이 처리됨"
      ],
      "metadata": {
        "colab": {
          "base_uri": "https://localhost:8080/",
          "height": 35
        },
        "id": "G5RhjqIz5eaF",
        "outputId": "d1bae867-adba-4227-af40-305b21262edb"
      },
      "execution_count": 71,
      "outputs": [
        {
          "output_type": "execute_result",
          "data": {
            "text/plain": [
              "'Error is 98%.'"
            ],
            "application/vnd.google.colaboratory.intrinsic+json": {
              "type": "string"
            }
          },
          "metadata": {},
          "execution_count": 71
        }
      ]
    },
    {
      "cell_type": "code",
      "source": [
        "# 포맷팅 숫자 처리(문자는 기본적으로 왼쪽 정렬, 숫자는 오른쪽 정렬)\n",
        "# 예시\n",
        "\"%-10s MBC AI\" % \"hi\"    # -10 : 문자열 10칸을 여백으로 생성하고, 그 안쪽에 문자를 왼쪽 정렬하여 넣음."
      ],
      "metadata": {
        "colab": {
          "base_uri": "https://localhost:8080/",
          "height": 35
        },
        "id": "LTzUmGzO6j87",
        "outputId": "ab422eb0-78c8-45d3-dd94-86f16dfecadf"
      },
      "execution_count": 74,
      "outputs": [
        {
          "output_type": "execute_result",
          "data": {
            "text/plain": [
              "'hi         MBC AI'"
            ],
            "application/vnd.google.colaboratory.intrinsic+json": {
              "type": "string"
            }
          },
          "metadata": {},
          "execution_count": 74
        }
      ]
    },
    {
      "cell_type": "code",
      "source": [
        "# 소수점 포맷팅\n",
        "\"%10.4f\" % 333333333333.141592    # .4는 소수점 4자리까지 출력(반올림), 정수쪽 10은 기본 자리수가 10자리지만, 넘치면 알아서 늘려준다."
      ],
      "metadata": {
        "colab": {
          "base_uri": "https://localhost:8080/",
          "height": 35
        },
        "id": "UC28L5eK8AW6",
        "outputId": "5e4a4315-0629-4714-bc94-571073259b22"
      },
      "execution_count": 79,
      "outputs": [
        {
          "output_type": "execute_result",
          "data": {
            "text/plain": [
              "'333333333333.1416'"
            ],
            "application/vnd.google.colaboratory.intrinsic+json": {
              "type": "string"
            }
          },
          "metadata": {},
          "execution_count": 79
        }
      ]
    },
    {
      "cell_type": "code",
      "source": [
        "# 포맷팅에 가독성을 높이기 위해서 .format()이라는 Method를 만들어 놓음...\n",
        "# 예시 1\n",
        "\"I eat {0} apples\".format(3)"
      ],
      "metadata": {
        "colab": {
          "base_uri": "https://localhost:8080/",
          "height": 35
        },
        "id": "WE8w2xD69dgX",
        "outputId": "1d950d28-23ca-4a77-dcd7-f9d875919de8"
      },
      "execution_count": 80,
      "outputs": [
        {
          "output_type": "execute_result",
          "data": {
            "text/plain": [
              "'I eat 3 apples'"
            ],
            "application/vnd.google.colaboratory.intrinsic+json": {
              "type": "string"
            }
          },
          "metadata": {},
          "execution_count": 80
        }
      ]
    },
    {
      "cell_type": "code",
      "source": [
        "# 예시 2\n",
        "\"I eat {0} apples\".format(\"five\")"
      ],
      "metadata": {
        "colab": {
          "base_uri": "https://localhost:8080/",
          "height": 35
        },
        "id": "60dK0Uuc-E_1",
        "outputId": "4add5ffd-dd57-4465-dd9c-ff9c42b55120"
      },
      "execution_count": 81,
      "outputs": [
        {
          "output_type": "execute_result",
          "data": {
            "text/plain": [
              "'I eat five apples'"
            ],
            "application/vnd.google.colaboratory.intrinsic+json": {
              "type": "string"
            }
          },
          "metadata": {},
          "execution_count": 81
        }
      ]
    },
    {
      "cell_type": "code",
      "source": [
        "# 예시 3\n",
        "number = 3\n",
        "\"I eat {0} apples\".format(number)"
      ],
      "metadata": {
        "colab": {
          "base_uri": "https://localhost:8080/",
          "height": 35
        },
        "id": "sQ0_9KOQ-RKT",
        "outputId": "c4a618f9-5a8e-4b9e-84c9-da757c94386f"
      },
      "execution_count": 82,
      "outputs": [
        {
          "output_type": "execute_result",
          "data": {
            "text/plain": [
              "'I eat 3 apples'"
            ],
            "application/vnd.google.colaboratory.intrinsic+json": {
              "type": "string"
            }
          },
          "metadata": {},
          "execution_count": 82
        }
      ]
    },
    {
      "cell_type": "code",
      "source": [
        "# 예시 4\n",
        "number = 10\n",
        "day = \"three\"\n",
        "\"I ate {1} apples. so I was sick for {0} days.\".format(number, day)"
      ],
      "metadata": {
        "colab": {
          "base_uri": "https://localhost:8080/",
          "height": 35
        },
        "id": "j3Np3LNZ-oTl",
        "outputId": "43ed7c32-2f3e-4633-b002-2d362914d1bb"
      },
      "execution_count": 84,
      "outputs": [
        {
          "output_type": "execute_result",
          "data": {
            "text/plain": [
              "'I ate three apples. so I was sick for 10 days.'"
            ],
            "application/vnd.google.colaboratory.intrinsic+json": {
              "type": "string"
            }
          },
          "metadata": {},
          "execution_count": 84
        }
      ]
    },
    {
      "cell_type": "code",
      "source": [
        "# 예시 5\n",
        "\"I ate {day} apples. so I was sick for {number} days.\".format(number=10, day=\"three\")"
      ],
      "metadata": {
        "colab": {
          "base_uri": "https://localhost:8080/",
          "height": 35
        },
        "id": "Z772sLaa-7Kb",
        "outputId": "fc5089cd-4d97-4401-e437-8817ceb39e44"
      },
      "execution_count": 88,
      "outputs": [
        {
          "output_type": "execute_result",
          "data": {
            "text/plain": [
              "'I ate three apples. so I was sick for 10 days.'"
            ],
            "application/vnd.google.colaboratory.intrinsic+json": {
              "type": "string"
            }
          },
          "metadata": {},
          "execution_count": 88
        }
      ]
    },
    {
      "cell_type": "code",
      "source": [
        "# 예시 6\n",
        "number = 10\n",
        "\"I ate {day} apples. so I was sick for {0} days.\".format(number, day=\"three\")"
      ],
      "metadata": {
        "colab": {
          "base_uri": "https://localhost:8080/",
          "height": 35
        },
        "id": "ju8uSZIC_Nql",
        "outputId": "c5c52740-ba0b-427b-f381-e4a2a5102794"
      },
      "execution_count": 90,
      "outputs": [
        {
          "output_type": "execute_result",
          "data": {
            "text/plain": [
              "'I ate three apples. so I was sick for 10 days.'"
            ],
            "application/vnd.google.colaboratory.intrinsic+json": {
              "type": "string"
            }
          },
          "metadata": {},
          "execution_count": 90
        }
      ]
    },
    {
      "cell_type": "code",
      "source": [
        "# 예시 7\n",
        "\"MBC AI {0:<10} Python\".format(\"hi\")"
      ],
      "metadata": {
        "colab": {
          "base_uri": "https://localhost:8080/",
          "height": 35
        },
        "id": "YgGPNK8m_gXO",
        "outputId": "10e8cdb9-f9eb-4f9a-eb91-fb3870199fa4"
      },
      "execution_count": 93,
      "outputs": [
        {
          "output_type": "execute_result",
          "data": {
            "text/plain": [
              "'MBC AI hi         Python'"
            ],
            "application/vnd.google.colaboratory.intrinsic+json": {
              "type": "string"
            }
          },
          "metadata": {},
          "execution_count": 93
        }
      ]
    },
    {
      "cell_type": "code",
      "source": [
        "# 예시 8\n",
        "\"MBC AI {0:^10} Python\".format(\"hi\")"
      ],
      "metadata": {
        "id": "gYLQNBrYLdwW"
      },
      "execution_count": null,
      "outputs": []
    },
    {
      "cell_type": "code",
      "source": [
        "# 예시 9\n",
        "\"{0:=^10}\".format(\"hi\")"
      ],
      "metadata": {
        "colab": {
          "base_uri": "https://localhost:8080/",
          "height": 35
        },
        "id": "ML2k9bN6LkPZ",
        "outputId": "fa71badb-6f93-45d8-b8b0-05c44f807e32"
      },
      "execution_count": 98,
      "outputs": [
        {
          "output_type": "execute_result",
          "data": {
            "text/plain": [
              "'====hi===='"
            ],
            "application/vnd.google.colaboratory.intrinsic+json": {
              "type": "string"
            }
          },
          "metadata": {},
          "execution_count": 98
        }
      ]
    },
    {
      "cell_type": "code",
      "source": [
        "# 예시 10\n",
        "\"{0:!<10}\".format(\"hi\")"
      ],
      "metadata": {
        "colab": {
          "base_uri": "https://localhost:8080/",
          "height": 35
        },
        "id": "4CtzfFJGL3kJ",
        "outputId": "ab3379ed-8e9b-4670-9d8d-ddd8fe0b5e1d"
      },
      "execution_count": 99,
      "outputs": [
        {
          "output_type": "execute_result",
          "data": {
            "text/plain": [
              "'hi!!!!!!!!'"
            ],
            "application/vnd.google.colaboratory.intrinsic+json": {
              "type": "string"
            }
          },
          "metadata": {},
          "execution_count": 99
        }
      ]
    },
    {
      "cell_type": "code",
      "source": [
        "# 소수점 표현하기\n",
        "# 예시\n",
        "y = 3.987654321\n",
        "\"{0:10.4f}\".format(y)    # 총 자리 수 10자리 중에 소수점은 4자리로 출력(반올림)"
      ],
      "metadata": {
        "colab": {
          "base_uri": "https://localhost:8080/",
          "height": 35
        },
        "id": "xyK6gRXNMKOZ",
        "outputId": "04c944b2-7129-4082-d4ba-e96379b4488d"
      },
      "execution_count": 102,
      "outputs": [
        {
          "output_type": "execute_result",
          "data": {
            "text/plain": [
              "'    3.9877'"
            ],
            "application/vnd.google.colaboratory.intrinsic+json": {
              "type": "string"
            }
          },
          "metadata": {},
          "execution_count": 102
        }
      ]
    },
    {
      "cell_type": "code",
      "source": [
        "# { 문자 } 출력하고 싶은 경우\n",
        "# 예시\n",
        "\"{{ 문자 }}\".format()    # 예약기호를 2번 연속 기입하면 문자형태로 출력 가능"
      ],
      "metadata": {
        "colab": {
          "base_uri": "https://localhost:8080/",
          "height": 35
        },
        "id": "C74jV4VwM2LV",
        "outputId": "8efd677e-eaea-4c29-b0a1-5d3bb3b0edd3"
      },
      "execution_count": 103,
      "outputs": [
        {
          "output_type": "execute_result",
          "data": {
            "text/plain": [
              "'{ 문자 }'"
            ],
            "application/vnd.google.colaboratory.intrinsic+json": {
              "type": "string"
            }
          },
          "metadata": {},
          "execution_count": 103
        }
      ]
    },
    {
      "cell_type": "code",
      "source": [
        "# Python 3.6 이상 Ver의 최신 포맷팅 / .format() Method를 사용하지 않는 기법 -> 접두사로 f를 기입한다.\n",
        "# 예시\n",
        "name = \"김수한\"\n",
        "age = 29\n",
        "text=f\"\"\"저의 이름은 {name+'무 거북이와 두루미 삼천갑자111111'}입니다.\n",
        "나이는 {age+2150}살 입니다.\"\"\"\n",
        "print(text)"
      ],
      "metadata": {
        "colab": {
          "base_uri": "https://localhost:8080/"
        },
        "id": "7vfYbtJANck8",
        "outputId": "c2f2a031-ec5b-4c88-a31e-a319d65f466b"
      },
      "execution_count": 118,
      "outputs": [
        {
          "output_type": "stream",
          "name": "stdout",
          "text": [
            "저의 이름은 김수한무 거북이와 두루미 삼천갑자111111입니다. \n",
            "나이는 2179살 입니다.\n"
          ]
        }
      ]
    },
    {
      "cell_type": "code",
      "source": [
        "# 딕셔너리를 활용한 포맷팅(key:value)\n",
        "# 예시 1\n",
        "d = {'name':'홍길동', 'age':30}\n",
        "f'나의 이름은 {d[\"name\"]}입니다. 나이는 {d[\"age\"]}입니다.'"
      ],
      "metadata": {
        "id": "qjeRFArVPuEn"
      },
      "execution_count": null,
      "outputs": []
    },
    {
      "cell_type": "code",
      "source": [
        "# 예시 2\n",
        "f'{\"hi\":<10}'"
      ],
      "metadata": {
        "colab": {
          "base_uri": "https://localhost:8080/",
          "height": 35
        },
        "id": "ZjwlVV_lQWFa",
        "outputId": "e849cd8c-645b-4e18-cb8c-b82830d3b6fd"
      },
      "execution_count": 120,
      "outputs": [
        {
          "output_type": "execute_result",
          "data": {
            "text/plain": [
              "'hi        '"
            ],
            "application/vnd.google.colaboratory.intrinsic+json": {
              "type": "string"
            }
          },
          "metadata": {},
          "execution_count": 120
        }
      ]
    },
    {
      "cell_type": "code",
      "source": [
        "# 예시 3\n",
        "f'{\"hi\":=^10}'"
      ],
      "metadata": {
        "colab": {
          "base_uri": "https://localhost:8080/",
          "height": 35
        },
        "id": "EoX_2yOUQq0Q",
        "outputId": "1853d3e3-2ad1-459e-95f3-66abb3b06498"
      },
      "execution_count": 121,
      "outputs": [
        {
          "output_type": "execute_result",
          "data": {
            "text/plain": [
              "'====hi===='"
            ],
            "application/vnd.google.colaboratory.intrinsic+json": {
              "type": "string"
            }
          },
          "metadata": {},
          "execution_count": 121
        }
      ]
    },
    {
      "cell_type": "code",
      "source": [
        "# 예시 4\n",
        "y = 3.42134234\n",
        "f'{y:_>10.4f}'"
      ],
      "metadata": {
        "colab": {
          "base_uri": "https://localhost:8080/",
          "height": 35
        },
        "id": "AS_TwXiaQ_y5",
        "outputId": "543a9675-ffef-4c2d-a627-f19c554b8f6f"
      },
      "execution_count": 125,
      "outputs": [
        {
          "output_type": "execute_result",
          "data": {
            "text/plain": [
              "'____3.4213'"
            ],
            "application/vnd.google.colaboratory.intrinsic+json": {
              "type": "string"
            }
          },
          "metadata": {},
          "execution_count": 125
        }
      ]
    },
    {
      "cell_type": "code",
      "source": [
        "# { 문자 }로 출력하고 싶은 경우 예시\n",
        "f\"{{ 문자 }}\""
      ],
      "metadata": {
        "colab": {
          "base_uri": "https://localhost:8080/",
          "height": 35
        },
        "id": "t0xQWa9oRlwU",
        "outputId": "1abc64b2-d9f6-4494-a937-b85b31f9d832"
      },
      "execution_count": 126,
      "outputs": [
        {
          "output_type": "execute_result",
          "data": {
            "text/plain": [
              "'{ 문자 }'"
            ],
            "application/vnd.google.colaboratory.intrinsic+json": {
              "type": "string"
            }
          },
          "metadata": {},
          "execution_count": 126
        }
      ]
    }
  ]
}